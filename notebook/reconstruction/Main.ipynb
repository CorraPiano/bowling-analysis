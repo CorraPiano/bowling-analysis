{
 "cells": [
  {
   "cell_type": "markdown",
   "metadata": {},
   "source": [
    "# Main code to run the **Reconstruction**"
   ]
  },
  {
   "cell_type": "code",
   "execution_count": 16,
   "metadata": {},
   "outputs": [],
   "source": [
    "from pathlib import Path"
   ]
  },
  {
   "cell_type": "code",
   "execution_count": null,
   "metadata": {},
   "outputs": [],
   "source": [
    "VIDEO_NUM = \"7\"\n",
    "PROJECT_ROOT = Path().resolve().parent.parent"
   ]
  },
  {
   "cell_type": "markdown",
   "metadata": {},
   "source": [
    "### `reconstruction` - Trasform positions"
   ]
  },
  {
   "cell_type": "code",
   "execution_count": 18,
   "metadata": {},
   "outputs": [
    {
     "name": "stdout",
     "output_type": "stream",
     "text": [
      "Transformed data saved to /home/davic/projects/IACV_project/bowling-analysis/data/auxiliary_data/reconstructed_positions/Transformed_positions_raw_7.csv.\n"
     ]
    }
   ],
   "source": [
    "CSV_POSITIONS_FILE_PATH = str(PROJECT_ROOT / \"data\" / \"auxiliary_data\" / \"lane_points\" / f\"Lane_points_{VIDEO_NUM}.csv\")\n",
    "CSV_POINTS_POSITIONS_FILE_PATH = str(PROJECT_ROOT / \"notebook\" / \"ball_detection\" / \"intermediate_data\" / f\"Circle_positions_cleaned_{VIDEO_NUM}.csv\")\n",
    "OUTPUT_CSV_PATH = str(PROJECT_ROOT / \"data\" / \"auxiliary_data\" / \"reconstructed_positions\" / f\"Transformed_positions_raw_{VIDEO_NUM}.csv\")\n",
    "\n",
    "%run -i ~/projects/IACV_project/bowling-analysis/notebook/reconstruction/Reconstruction.py"
   ]
  },
  {
   "cell_type": "markdown",
   "metadata": {},
   "source": [
    "### `reconstruction` - Post-processing trasformed positions"
   ]
  },
  {
   "cell_type": "code",
   "execution_count": 19,
   "metadata": {},
   "outputs": [
    {
     "name": "stdout",
     "output_type": "stream",
     "text": [
      "Cleaned data saved to:  /home/davic/projects/IACV_project/bowling-analysis/data/auxiliary_data/reconstructed_positions/Transformed_positions_processed_7.csv\n"
     ]
    }
   ],
   "source": [
    "CSV_POSITIONS_FILE_PATH = str(PROJECT_ROOT / \"data\" / \"auxiliary_data\" / \"reconstructed_positions\" / f\"Transformed_positions_raw_{VIDEO_NUM}.csv\")\n",
    "OUTPUT_CSV_PATH = str(PROJECT_ROOT / \"data\" / \"auxiliary_data\" / \"reconstructed_positions\" / f\"Transformed_positions_processed_{VIDEO_NUM}.csv\")\n",
    "\n",
    "%run -i ~/projects/IACV_project/bowling-analysis/notebook/reconstruction/Post-processing_positions.py"
   ]
  },
  {
   "cell_type": "markdown",
   "metadata": {},
   "source": [
    "### `reconstruction` - Transformed positions on deformed system"
   ]
  },
  {
   "cell_type": "code",
   "execution_count": 27,
   "metadata": {},
   "outputs": [
    {
     "name": "stdout",
     "output_type": "stream",
     "text": [
      "Transformed coordinates have been saved to: /home/davic/projects/IACV_project/bowling-analysis/data/auxiliary_data/reconstructed_positions/Transformed_positions_deformed_2.csv\n"
     ]
    }
   ],
   "source": [
    "CSV_POINTS_POSITIONS_FILE_PATH = str(PROJECT_ROOT / \"data\" / \"auxiliary_data\" / \"reconstructed_positions\" / f\"Transformed_positions_processed_{VIDEO_NUM}.csv\")\n",
    "CSV_POINTS_POSITIONS_DEFORMED_PATH = str(PROJECT_ROOT / \"data\" / \"auxiliary_data\" / \"reconstructed_positions\" / f\"Transformed_positions_deformed_{VIDEO_NUM}.csv\")\n",
    "\n",
    "%run -i ~/projects/IACV_project/bowling-analysis/notebook/reconstruction/Reconstruction_deformed.py"
   ]
  }
 ],
 "metadata": {
  "kernelspec": {
   "display_name": ".venv",
   "language": "python",
   "name": "python3"
  },
  "language_info": {
   "codemirror_mode": {
    "name": "ipython",
    "version": 3
   },
   "file_extension": ".py",
   "mimetype": "text/x-python",
   "name": "python",
   "nbconvert_exporter": "python",
   "pygments_lexer": "ipython3",
   "version": "3.12.3"
  }
 },
 "nbformat": 4,
 "nbformat_minor": 2
}
