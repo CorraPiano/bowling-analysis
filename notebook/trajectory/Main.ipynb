{
 "cells": [
  {
   "cell_type": "markdown",
   "metadata": {},
   "source": [
    "# Main code to run the **Trajectory**"
   ]
  },
  {
   "cell_type": "code",
   "execution_count": 1,
   "metadata": {},
   "outputs": [],
   "source": [
    "from pathlib import Path"
   ]
  },
  {
   "cell_type": "code",
   "execution_count": 2,
   "metadata": {},
   "outputs": [],
   "source": [
    "VIDEO_NUM = \"2\"\n",
    "PROJECT_ROOT = Path().resolve().parent.parent"
   ]
  },
  {
   "cell_type": "markdown",
   "metadata": {},
   "source": [
    "### `trajectory` - Trajectory on video of the point where the ball hits the ground"
   ]
  },
  {
   "cell_type": "code",
   "execution_count": null,
   "metadata": {},
   "outputs": [
    {
     "name": "stdout",
     "output_type": "stream",
     "text": [
      "Transformed data saved to /home/davic/projects/IACV_project/bowling-analysis/data/auxiliary_data/reconstructed_positions/Transformed_positions_raw_7.csv.\n"
     ]
    }
   ],
   "source": [
    "INPUT_VIDEO_PATH = str(PROJECT_ROOT / \"data\" / f\"recording_{VIDEO_NUM}\" / f\"Recording_{VIDEO_NUM}.mp4\")\n",
    "TRASFORMED_CSV_PATH = str(PROJECT_ROOT / \"data\" / \"auxiliary_data\" / \"reconstructed_positions\" / f\"Transformed_positions_processed_{VIDEO_NUM}.csv\")\n",
    "LANE_CSV_PATH = str(PROJECT_ROOT / \"data\" / \"auxiliary_data\" / \"lane_points\" / f\"Lane_points_{VIDEO_NUM}.csv\")\n",
    "OUTPUT_VIDEO_PATH = str(PROJECT_ROOT / \"data\" / f\"recording_{VIDEO_NUM}\" / f\"Tracked_output_{VIDEO_NUM}.mp4\")\n",
    "OUTPUT_CSV_PATH = str(PROJECT_ROOT / \"data\" / \"auxiliary_data\" / \"circle_positions\" / f\"Ball_lower_point_raw_{VIDEO_NUM}.csv\")\n",
    "\n",
    "%run -i ~/projects/IACV_project/bowling-analysis/notebook/trajectory/Trajectory_on_video.py"
   ]
  },
  {
   "cell_type": "markdown",
   "metadata": {},
   "source": [
    "### `trajectory` - Trajectory on the real lane"
   ]
  },
  {
   "cell_type": "code",
   "execution_count": 4,
   "metadata": {},
   "outputs": [
    {
     "name": "stdout",
     "output_type": "stream",
     "text": [
      "Tracking video saved to /home/davic/projects/IACV_project/bowling-analysis/data/recording_2/Reconstructed_trajectory_processed_2.mp4\n"
     ]
    }
   ],
   "source": [
    "INPUT_VIDEO_PATH = str(PROJECT_ROOT / \"data\" / f\"recording_{VIDEO_NUM}\" / f\"Recording_{VIDEO_NUM}.mp4\")\n",
    "CSV_FILE_PATH = str(PROJECT_ROOT / \"data\" / \"auxiliary_data\" / \"reconstructed_positions\" / f\"Transformed_positions_processed_{VIDEO_NUM}.csv\")\n",
    "OUTPUT_VIDEO_PATH = str(PROJECT_ROOT / \"data\" / f\"recording_{VIDEO_NUM}\" / f\"Reconstructed_trajectory_processed_{VIDEO_NUM}.mp4\")\n",
    "\n",
    "%run -i ~/projects/IACV_project/bowling-analysis/notebook/trajectory/Trajectory_on_reconstruction.py"
   ]
  },
  {
   "cell_type": "markdown",
   "metadata": {},
   "source": [
    "### `trajectory` - Trajectory on the deformed lane"
   ]
  },
  {
   "cell_type": "code",
   "execution_count": 6,
   "metadata": {},
   "outputs": [
    {
     "name": "stdout",
     "output_type": "stream",
     "text": [
      "Tracking video saved to /home/davic/projects/IACV_project/bowling-analysis/data/recording_2/Reconstructed_trajectory_deformed_2.mp4\n"
     ]
    }
   ],
   "source": [
    "INPUT_VIDEO_PATH = str(PROJECT_ROOT / \"data\" / f\"recording_{VIDEO_NUM}\" / f\"Recording_{VIDEO_NUM}.mp4\")\n",
    "CSV_FILE_PATH = str(PROJECT_ROOT / \"data\" / \"auxiliary_data\" / \"reconstructed_positions\" / f\"Transformed_positions_deformed_{VIDEO_NUM}.csv\")\n",
    "CSV_TEMPLATE_PATH = str(PROJECT_ROOT / \"notebook\" / \"reconstruction\" / \"intermediate_data\" / \"Template_lane_1.png\")\n",
    "OUTPUT_VIDEO_PATH = str(PROJECT_ROOT / \"data\" / f\"recording_{VIDEO_NUM}\" / f\"Reconstructed_trajectory_deformed_{VIDEO_NUM}.mp4\")\n",
    "\n",
    "%run -i ~/projects/IACV_project/bowling-analysis/notebook/trajectory/Trajectory_on_reconstruction_deformed.py"
   ]
  }
 ],
 "metadata": {
  "kernelspec": {
   "display_name": ".venv",
   "language": "python",
   "name": "python3"
  },
  "language_info": {
   "codemirror_mode": {
    "name": "ipython",
    "version": 3
   },
   "file_extension": ".py",
   "mimetype": "text/x-python",
   "name": "python",
   "nbconvert_exporter": "python",
   "pygments_lexer": "ipython3",
   "version": "3.12.3"
  }
 },
 "nbformat": 4,
 "nbformat_minor": 2
}
