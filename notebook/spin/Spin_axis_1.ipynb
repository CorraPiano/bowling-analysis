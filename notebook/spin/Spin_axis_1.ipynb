{
 "cells": [
  {
   "cell_type": "markdown",
   "id": "571a1a58",
   "metadata": {},
   "source": [
    "# Code to show the axes of rotation"
   ]
  },
  {
   "cell_type": "code",
   "execution_count": 1,
   "id": "419e8311",
   "metadata": {},
   "outputs": [
    {
     "name": "stdout",
     "output_type": "stream",
     "text": [
      "✅ Video with lines saved to: /home/davic/projects/IACV_project/bowling-analysis/data/recording_7/Spin_processed_7.mp4\n"
     ]
    }
   ],
   "source": [
    "import cv2\n",
    "import pandas as pd\n",
    "from pathlib import Path\n",
    "\n",
    "# Setup paths\n",
    "VIDEO_NUMBER = \"7\"\n",
    "PROJECT_ROOT = Path().resolve().parent.parent\n",
    "INPUT_VIDEO_PATH = str(\n",
    "    PROJECT_ROOT\n",
    "    / \"data\"\n",
    "    / f\"recording_{VIDEO_NUMBER}\"\n",
    "    / f\"Recording_{VIDEO_NUMBER}.mp4\"\n",
    ")\n",
    "INPUT_CSV_PATH = (\n",
    "    PROJECT_ROOT\n",
    "    / \"notebook/spin/intermediate_data\"\n",
    "    / f\"Spin_data_updated_{VIDEO_NUMBER}.csv\"\n",
    ")\n",
    "OUTPUT_VIDEO_PATH = str(\n",
    "    PROJECT_ROOT\n",
    "    / \"data\"\n",
    "    / f\"recording_{VIDEO_NUMBER}\"\n",
    "    / f\"Spin_processed_{VIDEO_NUMBER}.mp4\"\n",
    ")\n",
    "\n",
    "# Load coordinates\n",
    "df = pd.read_csv(INPUT_CSV_PATH)\n",
    "\n",
    "# Open video\n",
    "cap = cv2.VideoCapture(INPUT_VIDEO_PATH)\n",
    "fps = cap.get(cv2.CAP_PROP_FPS)\n",
    "width = int(cap.get(cv2.CAP_PROP_FRAME_WIDTH))\n",
    "height = int(cap.get(cv2.CAP_PROP_FRAME_HEIGHT))\n",
    "\n",
    "# Output video writer\n",
    "fourcc = cv2.VideoWriter_fourcc(*\"mp4v\")\n",
    "out = cv2.VideoWriter(OUTPUT_VIDEO_PATH, fourcc, fps, (width, height))\n",
    "\n",
    "frame_idx = 0\n",
    "while cap.isOpened():\n",
    "    ret, frame = cap.read()\n",
    "    if not ret:\n",
    "        break\n",
    "\n",
    "    # Get coordinates for current frame\n",
    "    if frame_idx < len(df):\n",
    "        row = df.iloc[frame_idx]\n",
    "        if (\n",
    "            pd.notna(row[\"pA_x\"])\n",
    "            and pd.notna(row[\"pA_y\"])\n",
    "            and pd.notna(row[\"pB_x\"])\n",
    "            and pd.notna(row[\"pB_y\"])\n",
    "        ):\n",
    "            pt1 = (int(row[\"pA_x\"]), int(row[\"pA_y\"]))\n",
    "            pt2 = (int(row[\"pB_x\"]), int(row[\"pB_y\"]))\n",
    "            cv2.line(frame, pt1, pt2, color=(0, 0, 255), thickness=2)  # red line\n",
    "\n",
    "    out.write(frame)\n",
    "    frame_idx += 1\n",
    "\n",
    "cap.release()\n",
    "out.release()\n",
    "print(f\"✅ Video with lines saved to: {OUTPUT_VIDEO_PATH}\")"
   ]
  }
 ],
 "metadata": {
  "kernelspec": {
   "display_name": ".venv",
   "language": "python",
   "name": "python3"
  },
  "language_info": {
   "codemirror_mode": {
    "name": "ipython",
    "version": 3
   },
   "file_extension": ".py",
   "mimetype": "text/x-python",
   "name": "python",
   "nbconvert_exporter": "python",
   "pygments_lexer": "ipython3",
   "version": "3.12.3"
  }
 },
 "nbformat": 4,
 "nbformat_minor": 5
}
