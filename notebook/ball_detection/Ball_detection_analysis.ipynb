{
 "cells": [
  {
   "cell_type": "markdown",
   "metadata": {},
   "source": [
    "# Main code to run the **Detection**"
   ]
  },
  {
   "cell_type": "code",
   "execution_count": 1,
   "metadata": {},
   "outputs": [],
   "source": [
    "import cv2\n",
    "import numpy as np\n",
    "import matplotlib.pyplot as plt\n",
    "from pathlib import Path\n",
    "import csv\n",
    "\n",
    "import pandas as pd\n",
    "from scipy.signal import medfilt\n",
    "from scipy.interpolate import interp1d"
   ]
  },
  {
   "cell_type": "markdown",
   "metadata": {},
   "source": [
    "## Creation of the Circle_positions file\n",
    "\n",
    "If not present the file */data/auxiliary_data/Circle_positions.csv* run the Detection code in order to produce it"
   ]
  },
  {
   "cell_type": "code",
   "execution_count": null,
   "metadata": {},
   "outputs": [],
   "source": [
    "# %load ~/projects/IACV_project/bowling-analysis/notebook/ball_detection/Detection.py"
   ]
  },
  {
   "cell_type": "markdown",
   "metadata": {},
   "source": [
    "### Detection"
   ]
  },
  {
   "cell_type": "code",
   "execution_count": 2,
   "metadata": {},
   "outputs": [
    {
     "name": "stdout",
     "output_type": "stream",
     "text": [
      "Processed 228 frames. \n",
      "Circle positions saved to /home/davic/projects/IACV_project/bowling-analysis/data/auxiliary_data/Circle_positions_4.csv.\n"
     ]
    }
   ],
   "source": [
    "PROJECT_ROOT = Path().resolve().parent.parent\n",
    "INPUT_VIDEO_PATH = str(PROJECT_ROOT / \"data\" / \"recording_4\" / \"Recording_4_normal_speed.mp4\")\n",
    "OUTPUT_VIDEO_PATH = str(PROJECT_ROOT / \"data\" / \"recording_4\" / \"Output_detected_test_4.mp4\")\n",
    "OUTPUT_CSV_PATH = str(PROJECT_ROOT / \"data\" / \"auxiliary_data\" / \"circle_positions\" / \"Circle_positions_4.csv\")\n",
    "\n",
    "%run -i ~/projects/IACV_project/bowling-analysis/notebook/ball_detection/Detection.py"
   ]
  },
  {
   "cell_type": "markdown",
   "metadata": {},
   "source": [
    "### Post-processing"
   ]
  },
  {
   "cell_type": "code",
   "execution_count": 13,
   "metadata": {},
   "outputs": [
    {
     "name": "stdout",
     "output_type": "stream",
     "text": [
      "New circle positions saved to /home/davic/projects/IACV_project/bowling-analysis/data/auxiliary_data/circle_positions/Circle_positions_2.0_clean.csv.\n"
     ]
    }
   ],
   "source": [
    "PROJECT_ROOT = Path().resolve().parent.parent\n",
    "INPUT_CSV_PATH = str(PROJECT_ROOT / \"data\" / \"auxiliary_data\" / \"circle_positions\" / \"Circle_positions_2.0.csv\")\n",
    "OUTPUT_CSV_PATH = str(PROJECT_ROOT / \"data\" / \"auxiliary_data\" / \"circle_positions\" / \"Circle_positions_2.0_clean.csv\")\n",
    "\n",
    "%run -i ~/projects/IACV_project/bowling-analysis/notebook/ball_detection/Post-processing.py"
   ]
  }
 ],
 "metadata": {
  "kernelspec": {
   "display_name": ".venv",
   "language": "python",
   "name": "python3"
  },
  "language_info": {
   "codemirror_mode": {
    "name": "ipython",
    "version": 3
   },
   "file_extension": ".py",
   "mimetype": "text/x-python",
   "name": "python",
   "nbconvert_exporter": "python",
   "pygments_lexer": "ipython3",
   "version": "3.12.3"
  }
 },
 "nbformat": 4,
 "nbformat_minor": 2
}
