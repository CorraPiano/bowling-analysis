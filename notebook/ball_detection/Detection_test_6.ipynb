{
 "cells": [
  {
   "cell_type": "markdown",
   "id": "23e1eb32",
   "metadata": {},
   "source": [
    "# Detection of the ball\n",
    "\n",
    "The idea here is:\n",
    "- I seach for the ball in the first rectangular of the image\n",
    "- When I detect a ball I restrict the detection for the successive ball whitin a rectangular not so much larger then the ball\n",
    "- I use the detected rectangle for the successive detection and I resize it with the new ball detected\n",
    "- And so on"
   ]
  },
  {
   "cell_type": "markdown",
   "id": "7bdd7e1c",
   "metadata": {},
   "source": [
    "IMPORTANT: understand how to set the first rectangular in which detect the ball"
   ]
  },
  {
   "cell_type": "code",
   "execution_count": 170,
   "id": "8a26dead",
   "metadata": {},
   "outputs": [],
   "source": [
    "# Import libraries\n",
    "import cv2\n",
    "from pathlib import Path\n",
    "import numpy as np\n",
    "import pandas as pd\n",
    "import matplotlib.pyplot as plt\n",
    "from IPython.display import display, clear_output\n",
    "import time"
   ]
  },
  {
   "cell_type": "code",
   "execution_count": null,
   "id": "4bc2cfff",
   "metadata": {},
   "outputs": [],
   "source": [
    "# --- Configuration ---\n",
    "VIDEO_NUM = \"2\"\n",
    "CONSISTENCY_THRESHOLD = 5\n",
    "POSITION_TOLERANCE = 35\n",
    "RADIUS_TOLERANCE = 10\n",
    "ROI_MARGIN = 10\n",
    "MAX_LOST_FRAMES = 15  # TODO: this can be used dynamically"
   ]
  },
  {
   "cell_type": "code",
   "execution_count": 172,
   "id": "1b6ed990",
   "metadata": {},
   "outputs": [
    {
     "name": "stdout",
     "output_type": "stream",
     "text": [
      "Video opened: FPS=30.0, Total Frames=118\n"
     ]
    }
   ],
   "source": [
    "# --- Paths ---\n",
    "PROJECT_ROOT = Path().resolve().parent.parent\n",
    "VIDEO_PATH = (\n",
    "    PROJECT_ROOT / \"data\" / f\"recording_{VIDEO_NUM}\" / f\"Recording_{VIDEO_NUM}.mp4\"\n",
    ")\n",
    "CSV_PATH = (\n",
    "    PROJECT_ROOT\n",
    "    / \"data\"\n",
    "    / \"auxiliary_data\"\n",
    "    / \"lane_points\"\n",
    "    / f\"Lane_points_{VIDEO_NUM}.csv\"\n",
    ")\n",
    "\n",
    "# --- Load Data ---\n",
    "df = pd.read_csv(CSV_PATH)\n",
    "cap = cv2.VideoCapture(str(VIDEO_PATH))\n",
    "if not cap.isOpened():\n",
    "    raise IOError(\"Error opening video file!\")\n",
    "\n",
    "fps = cap.get(cv2.CAP_PROP_FPS)\n",
    "total_frames = int(cap.get(cv2.CAP_PROP_FRAME_COUNT))\n",
    "print(f\"Video opened: FPS={fps}, Total Frames={total_frames}\")"
   ]
  },
  {
   "cell_type": "code",
   "execution_count": 173,
   "id": "daa2b55a",
   "metadata": {},
   "outputs": [],
   "source": [
    "# --- State Variables ---\n",
    "last_circle = None\n",
    "consistency_counter = 0\n",
    "lost_counter = 0\n",
    "use_roi = False\n",
    "search_roi = None\n",
    "frame_idx = 0\n",
    "first_time = True\n",
    "scale_factor = 0.6\n",
    "r_approx = None"
   ]
  },
  {
   "cell_type": "code",
   "execution_count": 174,
   "id": "1de43fee",
   "metadata": {},
   "outputs": [],
   "source": [
    "def get_points_for_frame(df: pd.DataFrame, frame_number: int) -> np.ndarray:\n",
    "    row = df[df[\"Frame\"] == frame_number]\n",
    "    if row.empty:\n",
    "        raise ValueError(f\"No points found for frame {frame_number}\")\n",
    "    return np.array(\n",
    "        [\n",
    "            [row[\"bottom_left_x\"].values[0], row[\"bottom_left_y\"].values[0]],\n",
    "            [row[\"bottom_right_x\"].values[0], row[\"bottom_right_y\"].values[0]],\n",
    "            [row[\"up_right_x\"].values[0], row[\"up_right_y\"].values[0]],\n",
    "            [row[\"up_left_x\"].values[0], row[\"up_left_y\"].values[0]],\n",
    "        ],\n",
    "        dtype=np.int32,\n",
    "    )"
   ]
  },
  {
   "cell_type": "code",
   "execution_count": 175,
   "id": "e3b6f0d8",
   "metadata": {},
   "outputs": [],
   "source": [
    "def compute_modified_polygon(points: np.ndarray) -> np.ndarray:\n",
    "    top_indices = np.argsort(points[:, 1])[:2]\n",
    "    top_points = points[top_indices]\n",
    "    left_top, right_top = sorted(top_points, key=lambda pt: pt[0])\n",
    "\n",
    "    left_top_mod = [left_top[0] - 50, left_top[1] - 70]\n",
    "    right_top_mod = [right_top[0] + 50, right_top[1] - 70]\n",
    "\n",
    "    return np.array(\n",
    "        [\n",
    "            left_top_mod\n",
    "            if np.array_equal(pt, left_top)\n",
    "            else right_top_mod\n",
    "            if np.array_equal(pt, right_top)\n",
    "            else pt\n",
    "            for pt in points\n",
    "        ],\n",
    "        dtype=np.int32,\n",
    "    )"
   ]
  },
  {
   "cell_type": "code",
   "execution_count": 176,
   "id": "7f31b1ac",
   "metadata": {},
   "outputs": [],
   "source": [
    "def compute_upper_polygon(points: np.ndarray) -> np.ndarray:\n",
    "    top_indices = np.argsort(points[:, 1])[:2]\n",
    "    top_points = points[top_indices]\n",
    "    left_top, right_top = sorted(top_points, key=lambda pt: pt[0])\n",
    "\n",
    "    left_top_mod = [\n",
    "        left_top[0] - 500,\n",
    "        left_top[1] + 150,\n",
    "    ]  # TODO: calculate it in another way (proportions between the lines?)\n",
    "    right_top_mod = [\n",
    "        right_top[0] + 150,\n",
    "        right_top[1] + 150,\n",
    "    ]  # TODO: calculate it in another way (proportions between the lines?)\n",
    "\n",
    "    return np.array(\n",
    "        [\n",
    "            left_top_mod\n",
    "            if np.array_equal(pt, left_top)\n",
    "            else right_top_mod\n",
    "            if np.array_equal(pt, right_top)\n",
    "            else pt\n",
    "            for pt in points\n",
    "        ],\n",
    "        dtype=np.int32,\n",
    "    )"
   ]
  },
  {
   "cell_type": "code",
   "execution_count": 177,
   "id": "8f6f5d5f",
   "metadata": {},
   "outputs": [],
   "source": [
    "def remove_background(\n",
    "    frame_number: int, df: pd.DataFrame, image: np.ndarray\n",
    ") -> tuple[np.ndarray, np.ndarray]:\n",
    "    points = get_points_for_frame(df, frame_number)\n",
    "    polygon = compute_modified_polygon(points)\n",
    "    mask = cv2.fillPoly(np.zeros(image.shape[:2], dtype=np.uint8), [polygon], 255)\n",
    "    result = cv2.bitwise_and(image, image, mask=mask)\n",
    "    return result, polygon"
   ]
  },
  {
   "cell_type": "code",
   "execution_count": 178,
   "id": "96fe7325",
   "metadata": {},
   "outputs": [],
   "source": [
    "def preprocess_roi(image: np.ndarray) -> np.ndarray:\n",
    "    return cv2.medianBlur(cv2.cvtColor(image, cv2.COLOR_BGR2GRAY), 5)"
   ]
  },
  {
   "cell_type": "code",
   "execution_count": 179,
   "id": "4f624b03",
   "metadata": {},
   "outputs": [],
   "source": [
    "def detect_circle(preprocessed_img: np.ndarray, frame_number: int) -> np.ndarray | None:\n",
    "    min_radius = int(\n",
    "        (total_frames - frame_number) * 0.20 + 20\n",
    "    )  # TODO: change with more accuracy\n",
    "    max_radius = int(\n",
    "        (total_frames - frame_number) * 0.20 + 80\n",
    "    )  # TODO: change with more accuracy\n",
    "    print(f\"Frame {frame_number}: min radius={min_radius}, max radius={max_radius}\")\n",
    "\n",
    "    return cv2.HoughCircles(\n",
    "        preprocessed_img,\n",
    "        cv2.HOUGH_GRADIENT,\n",
    "        dp=1.2,\n",
    "        minDist=50,\n",
    "        param1=100,\n",
    "        param2=40,\n",
    "        minRadius=min_radius,\n",
    "        maxRadius=max_radius,\n",
    "    )\n",
    "\n",
    "\n",
    "def detect_circle_roi(\n",
    "    preprocessed_img: np.ndarray, frame_number: int, r_approx: int\n",
    ") -> np.ndarray | None:\n",
    "    min_radius = max(0, int(r_approx * 0.9))\n",
    "    max_radius = int(r_approx * 1.08)\n",
    "    print(f\"Frame {frame_number}: min radius={min_radius}, max radius={max_radius}\")\n",
    "\n",
    "    return cv2.HoughCircles(\n",
    "        preprocessed_img,\n",
    "        cv2.HOUGH_GRADIENT,\n",
    "        dp=1.2,\n",
    "        minDist=500,\n",
    "        param1=200,\n",
    "        param2=10,\n",
    "        minRadius=min_radius,\n",
    "        maxRadius=max_radius,\n",
    "    )"
   ]
  },
  {
   "cell_type": "code",
   "execution_count": 180,
   "id": "5b46d8a0",
   "metadata": {},
   "outputs": [],
   "source": [
    "def update_roi(\n",
    "    x: int, y: int, r: int, frame_shape, base_margin: int, scale_factor: float\n",
    ") -> tuple[int, int, int, int]:\n",
    "    height, width = frame_shape[:2]\n",
    "    dynamic_margin = max(int(r * scale_factor), 10)  # Ensure at least some margin\n",
    "\n",
    "    x_min = max(0, x - r - dynamic_margin)  # -10 to avoid cutting the circle\n",
    "    y_min = max(0, y - r - dynamic_margin)  # -10 to avoid cutting the circle\n",
    "    x_max = min(width, x + r + dynamic_margin)  # +10 to avoid cutting the circle\n",
    "    y_max = min(height, y + r + 3)\n",
    "\n",
    "    return (x_min, y_min, x_max, y_max)"
   ]
  },
  {
   "cell_type": "code",
   "execution_count": 181,
   "id": "ac46ced6",
   "metadata": {},
   "outputs": [
    {
     "data": {
      "image/png": "[encoded data removed]",
      "text/plain": [
       "<Figure size 1000x600 with 1 Axes>"
      ]
     },
     "metadata": {},
     "output_type": "display_data"
    },
    {
     "name": "stdout",
     "output_type": "stream",
     "text": [
      "End of video or cannot read frame.\n",
      "Processing complete.\n"
     ]
    }
   ],
   "source": [
    "while cap.isOpened():\n",
    "    ret, frame = cap.read()\n",
    "    if not ret:\n",
    "        print(\"End of video or cannot read frame.\")\n",
    "        break\n",
    "\n",
    "    try:\n",
    "        # Remove background\n",
    "        masked_frame, _ = remove_background(frame_idx, df, frame)\n",
    "\n",
    "        # Choice of the \"search region\"\n",
    "        if consistency_counter < CONSISTENCY_THRESHOLD and first_time:\n",
    "            # Search in the upper polygon\n",
    "            upper_polygon = compute_upper_polygon(get_points_for_frame(df, frame_idx))\n",
    "            upper_mask = np.zeros(frame.shape[:2], dtype=np.uint8)\n",
    "            cv2.fillPoly(upper_mask, [upper_polygon], 255)\n",
    "            search_region = cv2.bitwise_and(masked_frame, masked_frame, mask=upper_mask)\n",
    "            roi_offset = (0, 0)\n",
    "            preprocessed = preprocess_roi(search_region)\n",
    "            circles = detect_circle(preprocessed, frame_idx)\n",
    "        elif use_roi and search_roi:\n",
    "            # Detection in the ROI\n",
    "            x_min, y_min, x_max, y_max = search_roi\n",
    "            search_region = masked_frame[y_min:y_max, x_min:x_max]\n",
    "            roi_offset = (x_min, y_min)\n",
    "            preprocessed = preprocess_roi(search_region)\n",
    "            circles = detect_circle_roi(preprocessed, frame_idx, r_approx)\n",
    "        else:\n",
    "            # Fallback in the full masked frame\n",
    "            search_region = masked_frame\n",
    "            roi_offset = (0, 0)\n",
    "            preprocessed = preprocess_roi(search_region)\n",
    "            circles = detect_circle(preprocessed, frame_idx)\n",
    "\n",
    "        # Detect cicles in the search region\n",
    "        # preprocessed = preprocess_roi(search_region)\n",
    "        # circles = detect_circle(preprocessed, frame_idx, r_approx)\n",
    "        valid_circle = None\n",
    "\n",
    "        if circles is not None:\n",
    "            x, y, r = np.round(circles[0, 0]).astype(\"int\")\n",
    "            x_global, y_global, r_global = x + roi_offset[0], y + roi_offset[1], r\n",
    "            valid_circle = (x + roi_offset[0], y + roi_offset[1], r_global)\n",
    "\n",
    "        if valid_circle:\n",
    "            dx, dy, dr = (\n",
    "                np.abs(np.subtract(valid_circle, last_circle))\n",
    "                if last_circle\n",
    "                else (0, 0, 0)\n",
    "            )\n",
    "            if (\n",
    "                last_circle\n",
    "                and dx < POSITION_TOLERANCE\n",
    "                and dy < POSITION_TOLERANCE\n",
    "                and dr < RADIUS_TOLERANCE\n",
    "            ):\n",
    "                consistency_counter += 1\n",
    "            else:\n",
    "                consistency_counter = 1\n",
    "\n",
    "            last_circle = valid_circle\n",
    "            lost_counter = 0\n",
    "\n",
    "            # Draw circle\n",
    "            x_roi, y_roi = (\n",
    "                valid_circle[0] - roi_offset[0],\n",
    "                valid_circle[1] - roi_offset[1],\n",
    "            )\n",
    "            cv2.circle(search_region, (x_roi, y_roi), valid_circle[2], (0, 255, 0), 2)\n",
    "            cv2.circle(search_region, (x_roi, y_roi), 2, (0, 0, 255), 3)\n",
    "\n",
    "            if consistency_counter >= CONSISTENCY_THRESHOLD:\n",
    "                search_roi = update_roi(\n",
    "                    x_global, y_global, r_global, frame.shape, ROI_MARGIN, scale_factor\n",
    "                )\n",
    "                r_approx = r_global\n",
    "                first_time = False\n",
    "                use_roi = True\n",
    "        else:\n",
    "            lost_counter += 1\n",
    "            if lost_counter >= MAX_LOST_FRAMES:\n",
    "                use_roi = False\n",
    "                consistency_counter = 0\n",
    "                last_circle = None\n",
    "                search_roi = None\n",
    "                r_approx = None\n",
    "\n",
    "        # Display result\n",
    "        display_frame = cv2.cvtColor(search_region, cv2.COLOR_BGR2RGB)  # preprocessed\n",
    "        clear_output(wait=True)\n",
    "        plt.figure(figsize=(10, 6))\n",
    "        plt.imshow(display_frame)\n",
    "        plt.title(f\"Search Region - Frame {frame_idx}\")\n",
    "        plt.axis(\"off\")\n",
    "        display(plt.gcf())\n",
    "        plt.close()\n",
    "        time.sleep(1 / fps)\n",
    "\n",
    "    except ValueError as e:\n",
    "        print(f\"Skipping frame {frame_idx}: {e}\")\n",
    "\n",
    "    frame_idx += 1\n",
    "\n",
    "cap.release()\n",
    "print(\"Processing complete.\")"
   ]
  },
  {
   "cell_type": "markdown",
   "id": "9c26281d",
   "metadata": {},
   "source": [
    "IMPROVEMENT: Rescrict the radius of the ball when we are detecting it in full track (camera calibration)"
   ]
  },
  {
   "cell_type": "markdown",
   "id": "dcdff092",
   "metadata": {},
   "source": [
    "[This code is implemented in Detection_3.py]"
   ]
  }
 ],
 "metadata": {
  "kernelspec": {
   "display_name": ".venv",
   "language": "python",
   "name": "python3"
  },
  "language_info": {
   "codemirror_mode": {
    "name": "ipython",
    "version": 3
   },
   "file_extension": ".py",
   "mimetype": "text/x-python",
   "name": "python",
   "nbconvert_exporter": "python",
   "pygments_lexer": "ipython3",
   "version": "3.12.3"
  }
 },
 "nbformat": 4,
 "nbformat_minor": 5
}
