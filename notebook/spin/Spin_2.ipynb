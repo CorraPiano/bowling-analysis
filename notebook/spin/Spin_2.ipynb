{
 "cells": [
  {
   "cell_type": "markdown",
   "id": "aac19a2e",
   "metadata": {},
   "source": [
    "# **Spin** calculation\n",
    "\n",
    "IDEA:\n",
    "- take in consideration only the ball for each frame\n",
    "- draw a lot of points on the ball\n",
    "- take the motion of these points between consecutive frames (optical flow)\n",
    "- from this motion we extract the direction of the rotation and so the axis of rotation"
   ]
  },
  {
   "cell_type": "code",
   "execution_count": 1454,
   "id": "b21740cc",
   "metadata": {},
   "outputs": [],
   "source": [
    "from pathlib import Path\n",
    "import numpy as np\n",
    "import cv2\n",
    "import pandas as pd\n",
    "from matplotlib import pyplot as plt"
   ]
  },
  {
   "cell_type": "code",
   "execution_count": 1455,
   "id": "747961da",
   "metadata": {},
   "outputs": [],
   "source": [
    "VIDEO_NUMBER = \"3\"\n",
    "PROJECT_ROOT = Path().resolve().parent.parent\n",
    "INPUT_VIDEO_PATH = str(\n",
    "    PROJECT_ROOT\n",
    "    / \"data\"\n",
    "    / f\"recording_{VIDEO_NUMBER}\"\n",
    "    / f\"Recording_{VIDEO_NUMBER}.mp4\"\n",
    ")\n",
    "INPUT_CSV_PATH = str(\n",
    "    PROJECT_ROOT\n",
    "    / \"data\"\n",
    "    / \"auxiliary_data\"\n",
    "    / \"circle_positions\"\n",
    "    / f\"Adjusted_positions_new_{VIDEO_NUMBER}.csv\"\n",
    ")"
   ]
  },
  {
   "cell_type": "code",
   "execution_count": 1456,
   "id": "5bab471c",
   "metadata": {},
   "outputs": [],
   "source": [
    "# Load video and CSV\n",
    "cap = cv2.VideoCapture(INPUT_VIDEO_PATH)\n",
    "if not cap.isOpened():\n",
    "    raise IOError(\"Error: Could not open video.\")\n",
    "df = pd.read_csv(INPUT_CSV_PATH)\n",
    "if df.empty:\n",
    "    raise ValueError(\"Error: The CSV file is empty.\")"
   ]
  },
  {
   "cell_type": "markdown",
   "id": "f0be26a6",
   "metadata": {},
   "source": [
    "Selecting a frame"
   ]
  },
  {
   "cell_type": "code",
   "execution_count": 1457,
   "id": "cd59c302",
   "metadata": {},
   "outputs": [],
   "source": [
    "# Select frame and next frame\n",
    "frame_number = 90\n",
    "cap.set(cv2.CAP_PROP_POS_FRAMES, frame_number)\n",
    "ret, frame1 = cap.read()\n",
    "if not ret:\n",
    "    raise IOError(f\"Failed to read frame {frame_number}.\")\n",
    "ret, frame2 = cap.read()\n",
    "if not ret:\n",
    "    raise IOError(f\"Failed to read frame {frame_number + 1}.\")"
   ]
  },
  {
   "cell_type": "code",
   "execution_count": 1458,
   "id": "4de0d158",
   "metadata": {},
   "outputs": [],
   "source": [
    "# Extract ball center and radius\n",
    "df_row = df.iloc[frame_number]\n",
    "ball_center = np.array([int(df_row[\"x\"]), int(df_row[\"y\"])])\n",
    "ball_radius = int(df_row[\"radius\"])\n",
    "\n",
    "# Compute ROI bounds\n",
    "offset = 2\n",
    "x_min = max(ball_center[0] - ball_radius - offset, 0)\n",
    "x_max = min(ball_center[0] + ball_radius + offset, frame1.shape[1])\n",
    "y_min = max(ball_center[1] - ball_radius - offset, 0)\n",
    "y_max = min(ball_center[1] + ball_radius + offset, frame1.shape[0])\n",
    "\n",
    "# Crop ROI and convert to grayscale\n",
    "roi1 = frame1[y_min:y_max, x_min:x_max]\n",
    "roi2 = frame2[y_min:y_max, x_min:x_max]\n",
    "gray1 = cv2.cvtColor(roi1, cv2.COLOR_BGR2GRAY)\n",
    "gray2 = cv2.cvtColor(roi2, cv2.COLOR_BGR2GRAY)\n",
    "\n",
    "# Compute center in ROI coordinates\n",
    "center_roi = np.array([ball_center[0] - x_min, ball_center[1] - y_min])"
   ]
  },
  {
   "cell_type": "code",
   "execution_count": 1459,
   "id": "eff9eb92",
   "metadata": {},
   "outputs": [],
   "source": [
    "# Generate 100 random points inside the circular ROI\n",
    "h, w = gray1.shape\n",
    "points = []\n",
    "while len(points) < 100:\n",
    "    x, y = np.random.randint(0, w), np.random.randint(0, h)\n",
    "    if (x - center_roi[0]) ** 2 + (y - center_roi[1]) ** 2 <= (ball_radius * 0.8) ** 2:\n",
    "        points.append([x, y])\n",
    "p0 = np.array(points, dtype=np.float32).reshape(-1, 1, 2)\n",
    "\n",
    "# Track points to next frame\n",
    "p1, status, _ = cv2.calcOpticalFlowPyrLK(\n",
    "    gray1,\n",
    "    gray2,\n",
    "    p0,\n",
    "    None,\n",
    "    winSize=(15, 15),\n",
    "    maxLevel=2,\n",
    "    criteria=(cv2.TERM_CRITERIA_EPS | cv2.TERM_CRITERIA_COUNT, 10, 0.03),\n",
    ")"
   ]
  },
  {
   "cell_type": "code",
   "execution_count": 1460,
   "id": "82f29cb5",
   "metadata": {},
   "outputs": [],
   "source": [
    "# Lift 2D points to 3D on sphere surface\n",
    "old3d = []\n",
    "new3d = []\n",
    "for old_pt, new_pt, s in zip(p0.reshape(-1, 2), p1.reshape(-1, 2), status.reshape(-1)):\n",
    "    if s == 1:\n",
    "        ox, oy = old_pt - center_roi\n",
    "        nx, ny = new_pt - center_roi\n",
    "        oz = np.sqrt(max(ball_radius**2 - ox**2 - oy**2, 0))\n",
    "        nz = np.sqrt(max(ball_radius**2 - nx**2 - ny**2, 0))\n",
    "        old3d.append([ox, oy, oz])\n",
    "        new3d.append([nx, ny, nz])\n",
    "old3d = np.array(old3d)\n",
    "new3d = np.array(new3d)"
   ]
  },
  {
   "cell_type": "code",
   "execution_count": 1461,
   "id": "8be3f5c5",
   "metadata": {},
   "outputs": [],
   "source": [
    "# Kabsch algorithm to find rotation matrix R\n",
    "# subtract centroids (but both centered at origin already)\n",
    "H = old3d.T @ new3d\n",
    "U, S, Vt = np.linalg.svd(H)\n",
    "R = Vt.T @ U.T\n",
    "# ensure right-handed\n",
    "if np.linalg.det(R) < 0:\n",
    "    Vt[-1, :] *= -1\n",
    "    R = Vt.T @ U.T\n",
    "\n",
    "# extract axis-angle from R\n",
    "theta = np.arccos((np.trace(R) - 1) / 2)\n",
    "axis = np.array([R[2, 1] - R[1, 2], R[0, 2] - R[2, 0], R[1, 0] - R[0, 1]])\n",
    "axis = axis / (2 * np.sin(theta))\n",
    "axis = axis / np.linalg.norm(axis)"
   ]
  },
  {
   "cell_type": "code",
   "execution_count": 1462,
   "id": "ec2c6c71",
   "metadata": {},
   "outputs": [
    {
     "data": {
      "image/png": "[encoded data removed]",
      "text/plain": [
       "<Figure size 500x500 with 1 Axes>"
      ]
     },
     "metadata": {},
     "output_type": "display_data"
    }
   ],
   "source": [
    "# prepare visualization overlay\n",
    "mask = np.zeros_like(roi1)\n",
    "# project axis to image plane (ignore z)\n",
    "a2d = axis[:2]\n",
    "a2d = a2d / np.linalg.norm(a2d)\n",
    "# draw axis line through center_roi\n",
    "length = ball_radius\n",
    "pt1 = (center_roi + a2d * length).astype(int)\n",
    "pt2 = (center_roi - a2d * length).astype(int)\n",
    "cv2.line(mask, tuple(pt1), tuple(pt2), (255, 255, 0), 2)\n",
    "\n",
    "# draw tracked vectors\n",
    "for (new_pt,), (old_pt,), s in zip(p1, p0, status):\n",
    "    if s[0] == 1:\n",
    "        c = tuple(old_pt.astype(int))\n",
    "        a = tuple(new_pt.astype(int))\n",
    "        cv2.circle(mask, c, 1, (0, 0, 255), -1)\n",
    "        cv2.circle(mask, a, 1, (255, 0, 0), -1)\n",
    "        cv2.line(mask, c, a, (0, 255, 0), 1)\n",
    "\n",
    "# overlay and display\n",
    "output_roi = cv2.addWeighted(roi1, 1, mask, 1, 0)\n",
    "output_rgb = cv2.cvtColor(output_roi, cv2.COLOR_BGR2RGB)\n",
    "\n",
    "# show the ball center\n",
    "cv2.circle(output_rgb, tuple(center_roi), 1, (0, 0, 255), -1)\n",
    "# show the ball radius\n",
    "cv2.circle(output_rgb, tuple(center_roi), ball_radius, (0, 255, 0), 1)\n",
    "plt.figure(figsize=(5, 5))\n",
    "plt.imshow(output_rgb)\n",
    "plt.axis(\"off\")\n",
    "plt.title(f\"Rotation Axis & Optical Flow (Frame {frame_number}->{frame_number + 1})\")\n",
    "plt.show()"
   ]
  }
 ],
 "metadata": {
  "kernelspec": {
   "display_name": ".venv",
   "language": "python",
   "name": "python3"
  },
  "language_info": {
   "codemirror_mode": {
    "name": "ipython",
    "version": 3
   },
   "file_extension": ".py",
   "mimetype": "text/x-python",
   "name": "python",
   "nbconvert_exporter": "python",
   "pygments_lexer": "ipython3",
   "version": "3.12.3"
  }
 },
 "nbformat": 4,
 "nbformat_minor": 5
}
