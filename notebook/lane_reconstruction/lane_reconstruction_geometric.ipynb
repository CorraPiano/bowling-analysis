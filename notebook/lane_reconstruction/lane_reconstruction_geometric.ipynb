{
 "cells": [
  {
   "cell_type": "markdown",
   "metadata": {},
   "source": [
    "Prova ricostruzione geometrica"
   ]
  },
  {
   "cell_type": "code",
   "execution_count": 2,
   "metadata": {},
   "outputs": [],
   "source": [
    "import cv2\n",
    "from pathlib import Path\n",
    "import numpy as np\n",
    "from matplotlib import pyplot as plt\n",
    "import pandas as pd"
   ]
  },
  {
   "cell_type": "markdown",
   "metadata": {},
   "source": [
    "Import lines"
   ]
  },
  {
   "cell_type": "code",
   "execution_count": 4,
   "metadata": {},
   "outputs": [
    {
     "data": {
      "text/html": [
       "<div>\n",
       "<style scoped>\n",
       "    .dataframe tbody tr th:only-of-type {\n",
       "        vertical-align: middle;\n",
       "    }\n",
       "\n",
       "    .dataframe tbody tr th {\n",
       "        vertical-align: top;\n",
       "    }\n",
       "\n",
       "    .dataframe thead th {\n",
       "        text-align: right;\n",
       "    }\n",
       "</style>\n",
       "<table border=\"1\" class=\"dataframe\">\n",
       "  <thead>\n",
       "    <tr style=\"text-align: right;\">\n",
       "      <th></th>\n",
       "      <th>rho</th>\n",
       "      <th>theta</th>\n",
       "    </tr>\n",
       "  </thead>\n",
       "  <tbody>\n",
       "    <tr>\n",
       "      <th>0</th>\n",
       "      <td>392.490573</td>\n",
       "      <td>1.602865</td>\n",
       "    </tr>\n",
       "    <tr>\n",
       "      <th>1</th>\n",
       "      <td>1022.000000</td>\n",
       "      <td>1.588250</td>\n",
       "    </tr>\n",
       "    <tr>\n",
       "      <th>2</th>\n",
       "      <td>1140.000000</td>\n",
       "      <td>0.802851</td>\n",
       "    </tr>\n",
       "    <tr>\n",
       "      <th>3</th>\n",
       "      <td>1549.000000</td>\n",
       "      <td>0.366519</td>\n",
       "    </tr>\n",
       "  </tbody>\n",
       "</table>\n",
       "</div>"
      ],
      "text/plain": [
       "           rho     theta\n",
       "0   392.490573  1.602865\n",
       "1  1022.000000  1.588250\n",
       "2  1140.000000  0.802851\n",
       "3  1549.000000  0.366519"
      ]
     },
     "execution_count": 4,
     "metadata": {},
     "output_type": "execute_result"
    }
   ],
   "source": [
    "# Define the relative path to the  file\n",
    "notebook_dir = Path().resolve()\n",
    "project_root = notebook_dir.parent.parent\n",
    "data_path = project_root / 'data' / 'auxiliary_data' / 'lane_lines' / 'lane_lines_3.csv'\n",
    "# Load the CSV file into a DataFrame\n",
    "lane_lines_df = pd.read_csv(data_path)\n",
    "\n",
    "# Display the first few rows of the DataFrame\n",
    "lane_lines_df.head()"
   ]
  },
  {
   "cell_type": "markdown",
   "metadata": {},
   "source": [
    "save lines"
   ]
  },
  {
   "cell_type": "code",
   "execution_count": 5,
   "metadata": {},
   "outputs": [],
   "source": [
    "top_line_h = lane_lines_df.iloc[0]\n",
    "bottom_line_h = lane_lines_df.iloc[1]\n",
    "left_line_h = lane_lines_df.iloc[2]\n",
    "right_line_h = lane_lines_df.iloc[3]"
   ]
  },
  {
   "cell_type": "markdown",
   "metadata": {},
   "source": [
    "Convert lines in homogeneous coordinates"
   ]
  },
  {
   "cell_type": "code",
   "execution_count": 6,
   "metadata": {},
   "outputs": [
    {
     "name": "stdout",
     "output_type": "stream",
     "text": [
      "Top Line Homogeneous: [ 8.16915215e-05 -2.54652191e-03  1.00000000e+00]\n",
      "Bottom Line Homogeneous: [ 1.70766647e-05 -9.78324556e-04  1.00000000e+00]\n",
      "Left Line Homogeneous: [-6.09349459e-04 -6.30999814e-04  1.00000000e+00]\n",
      "Right Line Homogeneous: [-6.02698788e-04 -2.31354396e-04  1.00000000e+00]\n"
     ]
    }
   ],
   "source": [
    "def to_homogeneous(rho, theta):\n",
    "    return np.array([np.cos(theta), np.sin(theta), -rho])/(-rho)\n",
    "\n",
    "top_line = to_homogeneous(top_line_h['rho'], top_line_h['theta'])\n",
    "bottom_line = to_homogeneous(bottom_line_h['rho'], bottom_line_h['theta'])\n",
    "left_line = to_homogeneous(left_line_h['rho'], left_line_h['theta'])\n",
    "right_line = to_homogeneous(right_line_h['rho'], right_line_h['theta'])\n",
    "\n",
    "print(\"Top Line Homogeneous:\", top_line)\n",
    "print(\"Bottom Line Homogeneous:\", bottom_line)\n",
    "print(\"Left Line Homogeneous:\", left_line)\n",
    "print(\"Right Line Homogeneous:\", right_line)"
   ]
  },
  {
   "cell_type": "markdown",
   "metadata": {},
   "source": [
    "Vertical vanishing point"
   ]
  },
  {
   "cell_type": "code",
   "execution_count": 7,
   "metadata": {},
   "outputs": [
    {
     "name": "stdout",
     "output_type": "stream",
     "text": [
      "[ 1.66987081e+03 -2.77890355e+01  1.00000000e+00]\n"
     ]
    }
   ],
   "source": [
    "vanishing_point_vertical = np.cross(left_line, right_line)\n",
    "vanishing_point_vertical = vanishing_point_vertical / vanishing_point_vertical[2]\n",
    "print(vanishing_point_vertical)"
   ]
  },
  {
   "cell_type": "markdown",
   "metadata": {},
   "source": [
    "Get the x position of the camera"
   ]
  },
  {
   "cell_type": "code",
   "execution_count": null,
   "metadata": {},
   "outputs": [],
   "source": [
    "x_camera = vanishing_point_vertical[0]"
   ]
  }
 ],
 "metadata": {
  "kernelspec": {
   "display_name": "Python 3",
   "language": "python",
   "name": "python3"
  },
  "language_info": {
   "codemirror_mode": {
    "name": "ipython",
    "version": 3
   },
   "file_extension": ".py",
   "mimetype": "text/x-python",
   "name": "python",
   "nbconvert_exporter": "python",
   "pygments_lexer": "ipython3",
   "version": "3.11.9"
  }
 },
 "nbformat": 4,
 "nbformat_minor": 2
}
