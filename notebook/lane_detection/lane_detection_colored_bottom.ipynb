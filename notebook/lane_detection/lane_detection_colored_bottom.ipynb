{
 "cells": [
  {
   "cell_type": "markdown",
   "metadata": {},
   "source": [
    "Bottom line detection definitiva"
   ]
  },
  {
   "cell_type": "code",
   "execution_count": 43,
   "metadata": {},
   "outputs": [],
   "source": [
    "import cv2\n",
    "from pathlib import Path\n",
    "import numpy as np\n",
    "import math\n",
    "import pandas as pd"
   ]
  },
  {
   "cell_type": "markdown",
   "metadata": {},
   "source": [
    "Funzioni"
   ]
  },
  {
   "cell_type": "markdown",
   "metadata": {},
   "source": [
    "Funzione che converte le linee da 2 punti a rho,theta"
   ]
  },
  {
   "cell_type": "code",
   "execution_count": 44,
   "metadata": {},
   "outputs": [],
   "source": [
    "\"\"\"\n",
    "Sructure of lines_p:\n",
    "(x1, y1, x2, y2) are the coordinates of the two end points of the line segment\n",
    "I want to convert them to the form rho,theta in order to easly detect the horizontal lines\n",
    "\"\"\"\n",
    "\n",
    "\n",
    "def convert_to_rho_theta(x1, y1, x2, y2):\n",
    "    \"\"\"\n",
    "    Convert a line from (x1, y1, x2, y2) format to (rho, theta).\n",
    "    \"\"\"\n",
    "    # Compute the line angle (in radians) and find the normal angle\n",
    "    theta = np.arctan2(y2 - y1, x2 - x1) + np.pi / 2  # Normal angle\n",
    "\n",
    "    # Compute rho using the normal equation\n",
    "    rho = x1 * np.cos(theta) + y1 * np.sin(theta)\n",
    "\n",
    "    # Ensure rho is positive by adjusting theta accordingly\n",
    "    if rho < 0:\n",
    "        rho = -rho\n",
    "        theta += np.pi  # Shift by 180 degrees to maintain equivalence\n",
    "\n",
    "    return rho, theta"
   ]
  },
  {
   "cell_type": "markdown",
   "metadata": {},
   "source": [
    "Get the edges"
   ]
  },
  {
   "cell_type": "code",
   "execution_count": 45,
   "metadata": {},
   "outputs": [],
   "source": [
    "def get_edges(frame):\n",
    "    # Define the range for light brown color in HSV\n",
    "    lower_brown = np.array([00, 30, 100])\n",
    "    upper_brown = np.array([20, 200, 255])\n",
    "\n",
    "    # Define the range for rose color in HSV\n",
    "    lower_rose = np.array([150, 30, 200])\n",
    "    upper_rose = np.array([180, 200, 255])\n",
    "\n",
    "    # Convert the image to HSV color space\n",
    "    hsv_image = cv2.cvtColor(frame, cv2.COLOR_BGR2HSV)\n",
    "\n",
    "    # Create masks for brown and rose colors\n",
    "    mask_brown = cv2.inRange(hsv_image, lower_brown, upper_brown)\n",
    "    mask_rose = cv2.inRange(hsv_image, lower_rose, upper_rose)\n",
    "\n",
    "    # Combine the masks\n",
    "    combined_mask = cv2.bitwise_or(mask_brown, mask_rose)\n",
    "\n",
    "    # apply brown and rose mask\n",
    "    extracted_image = cv2.bitwise_and(frame, frame, mask=combined_mask)\n",
    "\n",
    "    # Crop the bottom part of the image\n",
    "    limit_y = math.floor(3 / 4 * extracted_image.shape[0])\n",
    "    bottom_image = extracted_image[\n",
    "        limit_y : extracted_image.shape[0], 0 : extracted_image.shape[1]\n",
    "    ]\n",
    "\n",
    "    # Convert the bottom image to grayscale\n",
    "    gray_image = cv2.cvtColor(bottom_image, cv2.COLOR_BGR2GRAY)\n",
    "\n",
    "    # Compute Otsu's threshold\n",
    "    otsu_thresh, _ = cv2.threshold(\n",
    "        gray_image, 0, 255, cv2.THRESH_BINARY + cv2.THRESH_OTSU\n",
    "    )\n",
    "\n",
    "    # Set lower and upper thresholds relative to Otsu's threshold\n",
    "    lower = 0.5 * otsu_thresh\n",
    "    upper = 1.5 * otsu_thresh\n",
    "\n",
    "    # get edges\n",
    "    edges = cv2.Canny(gray_image, lower, upper)\n",
    "\n",
    "    return edges, limit_y"
   ]
  },
  {
   "cell_type": "markdown",
   "metadata": {},
   "source": [
    "Get lines from edges"
   ]
  },
  {
   "cell_type": "code",
   "execution_count": 46,
   "metadata": {},
   "outputs": [],
   "source": [
    "def get_lines(edges):\n",
    "    # Apply Probabilistic Hough Line Transform (allow to set minLineLength and maxLineGap)\n",
    "    min_line_length = 50\n",
    "    max_line_gap = 10\n",
    "    lines_p = cv2.HoughLinesP(\n",
    "        edges,\n",
    "        1,\n",
    "        np.pi / 180,\n",
    "        100,\n",
    "        minLineLength=min_line_length,\n",
    "        maxLineGap=max_line_gap,\n",
    "    )\n",
    "    return lines_p"
   ]
  },
  {
   "cell_type": "markdown",
   "metadata": {},
   "source": [
    "Calculate the slope of the line"
   ]
  },
  {
   "cell_type": "code",
   "execution_count": 47,
   "metadata": {},
   "outputs": [],
   "source": [
    "# Function to calculate the angle of a line\n",
    "def calculate_angle(x1, y1, x2, y2):\n",
    "    return math.degrees(math.atan2(y2 - y1, x2 - x1))"
   ]
  },
  {
   "cell_type": "markdown",
   "metadata": {},
   "source": [
    "Filter horizontal lines"
   ]
  },
  {
   "cell_type": "code",
   "execution_count": 48,
   "metadata": {},
   "outputs": [],
   "source": [
    "def get_horizontal(lines_p, tolerance=20):\n",
    "    horizontal = []\n",
    "    if lines_p is not None:\n",
    "        for line in lines_p:\n",
    "            x1, y1, x2, y2 = line[0]\n",
    "            angle = calculate_angle(x1, y1, x2, y2)\n",
    "            if abs(angle) <= tolerance:\n",
    "                horizontal.append(line)\n",
    "    return horizontal"
   ]
  },
  {
   "cell_type": "markdown",
   "metadata": {},
   "source": [
    "Funzione di detection della linea inferiore"
   ]
  },
  {
   "cell_type": "code",
   "execution_count": 49,
   "metadata": {},
   "outputs": [],
   "source": [
    "\"\"\" Detection della linea inferiore da un singolo frame\"\"\"\n",
    "\n",
    "\n",
    "def bottom_detection(frame):\n",
    "    # get edges\n",
    "    edges, limit_y = get_edges(frame)\n",
    "\n",
    "    # get the lines\n",
    "    lines_p = get_lines(edges)\n",
    "\n",
    "    # # Convert all lines to (rho, theta)\n",
    "    # if lines_p is not None:\n",
    "    #     rho_theta_lines = []\n",
    "    #     for line in lines_p:\n",
    "    #         x1, y1, x2, y2 = line[0]  # Extract line coordinates\n",
    "    #         rho, theta = convert_to_rho_theta(x1, y1, x2, y2)\n",
    "    #         rho_theta_lines.append((rho, theta))\n",
    "    # else:\n",
    "    #     return [0, 0]\n",
    "\n",
    "    # if len(rho_theta_lines) == 0:\n",
    "    #     # if no lines are found, return an unfeasible value (vertical line at rho = 0)\n",
    "    #     return [0, 0]\n",
    "\n",
    "    # filter horizontal lines\n",
    "    horizontal_lines = get_horizontal(lines_p)\n",
    "\n",
    "    # if rho_theta_lines is not None:\n",
    "    #     horizontal_lines = [line for line in rho_theta_lines if abs(line[1] - np.pi/2) <= tolerance]\n",
    "\n",
    "    # if len(horizontal_lines) == 0:\n",
    "    #     # if no horizontal lines are found, return an unfeasible value (vertical line at rho = 0)\n",
    "    #     return [0, 0]\n",
    "    # else:\n",
    "    #     # select the first horizontal line\n",
    "    #     horizontal_line = horizontal_lines[0]\n",
    "\n",
    "    # # Convert the found line in the reference system of the original image\n",
    "    # adjusted_rho = horizontal_line[0] + limit_y * np.sin(horizontal_line[1])\n",
    "    # horizontal_line = (adjusted_rho, horizontal_line[1])\n",
    "\n",
    "    if len(horizontal_lines) == 0:\n",
    "        return None\n",
    "\n",
    "    # adjust y coordinates to come back to the original image points\n",
    "    horizontal_line = horizontal_lines[0][0]\n",
    "    horizontal_line[1] = horizontal_line[1] + limit_y\n",
    "    horizontal_line[3] = horizontal_line[3] + limit_y\n",
    "\n",
    "    # return the horizontal line\n",
    "    return horizontal_line"
   ]
  },
  {
   "cell_type": "markdown",
   "metadata": {},
   "source": [
    "Funzione per disegnare la linea sul frame"
   ]
  },
  {
   "cell_type": "code",
   "execution_count": 50,
   "metadata": {},
   "outputs": [],
   "source": [
    "def write_line_on_frame(frame, line):\n",
    "    # Create a copy of the original frame to draw the first line\n",
    "    modified_frame = np.copy(frame)\n",
    "\n",
    "    # Extract the first line's rho and theta\n",
    "    if line:\n",
    "        rho, theta = line\n",
    "\n",
    "        # Calculate the endpoints of the line\n",
    "        a = np.cos(theta)\n",
    "        b = np.sin(theta)\n",
    "        x0 = a * rho\n",
    "        y0 = b * rho\n",
    "        x1 = int(x0 + 1000 * (-b))\n",
    "        y1 = int(y0 + 1000 * (a))\n",
    "        x2 = int(x0 - 1000 * (-b))\n",
    "        y2 = int(y0 - 1000 * (a))\n",
    "\n",
    "        # Draw the first line on the frame\n",
    "        cv2.line(modified_frame, (x1, y1), (x2, y2), (0, 255, 0), 2)\n",
    "\n",
    "    # return the modified frame\n",
    "    return modified_frame"
   ]
  },
  {
   "cell_type": "code",
   "execution_count": 51,
   "metadata": {},
   "outputs": [],
   "source": [
    "\"\"\"Disegna la linea sul frame\"\"\"\n",
    "\n",
    "\n",
    "def write_line_on_frame_cartesian(frame, line):\n",
    "    # Create a copy of the original frame to draw the first line\n",
    "    modified_frame = np.copy(frame)\n",
    "\n",
    "    if line is not None:\n",
    "        x1, y1, x2, y2 = line\n",
    "\n",
    "        # Allunga la linea di 1000 pixel da entrambe le estremità\n",
    "        x1_ext, y1_ext, x2_ext, y2_ext = extend_line(x1, y1, x2, y2, length=1000)\n",
    "\n",
    "        # Disegna la linea estesa\n",
    "        cv2.line(modified_frame, (x1_ext, y1_ext), (x2_ext, y2_ext), (0, 255, 0), 2)\n",
    "\n",
    "    # return the modified frame\n",
    "    return modified_frame"
   ]
  },
  {
   "cell_type": "markdown",
   "metadata": {},
   "source": [
    "Estende le linee per farle vedere meglio"
   ]
  },
  {
   "cell_type": "code",
   "execution_count": 52,
   "metadata": {},
   "outputs": [],
   "source": [
    "# Funzione per estendere una linea\n",
    "def extend_line(x1, y1, x2, y2, length=1000):\n",
    "    # Calcola la lunghezza originale della linea\n",
    "    dx, dy = x2 - x1, y2 - y1\n",
    "    norm = np.sqrt(dx**2 + dy**2)  # Distanza euclidea tra i due punti\n",
    "\n",
    "    # Evita divisioni per zero\n",
    "    if norm == 0:\n",
    "        return x1, y1, x2, y2\n",
    "\n",
    "    # Calcola i punti estesi\n",
    "    x1_ext = int(x1 - length * (dx / norm))\n",
    "    y1_ext = int(y1 - length * (dy / norm))\n",
    "    x2_ext = int(x2 + length * (dx / norm))\n",
    "    y2_ext = int(y2 + length * (dy / norm))\n",
    "\n",
    "    return x1_ext, y1_ext, x2_ext, y2_ext"
   ]
  },
  {
   "cell_type": "markdown",
   "metadata": {},
   "source": [
    "Main of the code"
   ]
  },
  {
   "cell_type": "code",
   "execution_count": 53,
   "metadata": {},
   "outputs": [
    {
     "name": "stdout",
     "output_type": "stream",
     "text": [
      "End of video or failed to read the frame: 119\n"
     ]
    }
   ],
   "source": [
    "video_number = \"8\"\n",
    "# Define the relative path to the video file\n",
    "notebook_dir = Path().resolve()\n",
    "project_root = notebook_dir.parent.parent\n",
    "video_path = (\n",
    "    project_root\n",
    "    / \"data\"\n",
    "    / f\"recording_{video_number}\"\n",
    "    / f\"Recording_{video_number}.mp4\"\n",
    ")\n",
    "video_path = str(video_path)\n",
    "\n",
    "# Load the video\n",
    "cap = cv2.VideoCapture(video_path)\n",
    "\n",
    "# Reset the video to the beginning\n",
    "cap.set(cv2.CAP_PROP_POS_FRAMES, 0)\n",
    "\n",
    "# Define the codec and create a VideoWriter object to save the modified frames\n",
    "output_path = (\n",
    "    project_root / \"data\" / f\"recording_{video_number}\" / \"Bottom_line_video.mp4\"\n",
    ")\n",
    "fourcc = cv2.VideoWriter_fourcc(*\"mp4v\")  # Use 'mp4v' codec for MP4 format\n",
    "fps = int(cap.get(cv2.CAP_PROP_FPS))\n",
    "frame_width = int(cap.get(cv2.CAP_PROP_FRAME_WIDTH))\n",
    "frame_height = int(cap.get(cv2.CAP_PROP_FRAME_HEIGHT))\n",
    "out = cv2.VideoWriter(str(output_path), fourcc, fps, (frame_width, frame_height))\n",
    "\n",
    "\n",
    "# Initialize num_frame e horizontal_line\n",
    "horizontal_lines = [None] * int(cap.get(cv2.CAP_PROP_FRAME_COUNT))\n",
    "num_frame = 0\n",
    "\n",
    "# Loop through each frame in the video\n",
    "while True:\n",
    "    ret, frame = cap.read()\n",
    "    if not ret:\n",
    "        print(\"End of video or failed to read the frame:\", num_frame)\n",
    "        break\n",
    "\n",
    "    # Perform operations on the current frame\n",
    "    horizontal_lines[num_frame] = bottom_detection(frame)\n",
    "    if horizontal_lines[num_frame] is None:\n",
    "        modified_frame = frame  # Keep the original frame if no line is detected\n",
    "    else:\n",
    "        # Write the modified frame to the output video\n",
    "        modified_frame = write_line_on_frame_cartesian(\n",
    "            frame, horizontal_lines[num_frame]\n",
    "        )\n",
    "\n",
    "    # Write the modified frame to the output video\n",
    "    out.write(modified_frame)\n",
    "\n",
    "    # Increment the frame counter\n",
    "    num_frame += 1\n",
    "\n",
    "# Release the video capture and writer objects\n",
    "# cap.release()\n",
    "out.release()"
   ]
  },
  {
   "cell_type": "code",
   "execution_count": 54,
   "metadata": {},
   "outputs": [],
   "source": [
    "def cartesian_to_polar(lines):\n",
    "    rt_lines = []\n",
    "    for line in lines:\n",
    "        if line is None:\n",
    "            rt_lines.append((0, 0))\n",
    "            continue\n",
    "        x1, y1, x2, y2 = line\n",
    "        rho, theta = convert_to_rho_theta(x1, y1, x2, y2)\n",
    "        rt_lines.append((rho, theta))\n",
    "    return rt_lines"
   ]
  },
  {
   "cell_type": "code",
   "execution_count": 55,
   "metadata": {},
   "outputs": [
    {
     "name": "stdout",
     "output_type": "stream",
     "text": [
      "Horizontal lines saved to C:\\Users\\miche\\OneDrive\\Documenti\\GitHub\\bowling-analysis\\notebook\\lane_detection\\intermediate_data\\horizontal_lines_8_raw.csv\n"
     ]
    }
   ],
   "source": [
    "horizontal_lines_rt = cartesian_to_polar(horizontal_lines)\n",
    "# Convert horizontal_lines to a DataFrame\n",
    "horizontal_lines_df = pd.DataFrame(horizontal_lines_rt, columns=[\"rho\", \"theta\"])\n",
    "\n",
    "# Save the DataFrame to a CSV file\n",
    "output_data_path = (\n",
    "    project_root\n",
    "    / \"notebook\"\n",
    "    / \"lane_detection\"\n",
    "    / \"intermediate_data\"\n",
    "    / f\"horizontal_lines_{video_number}_raw.csv\"\n",
    ")\n",
    "horizontal_lines_df.to_csv(output_data_path, index=False)\n",
    "\n",
    "print(f\"Horizontal lines saved to {output_data_path}\")"
   ]
  },
  {
   "cell_type": "code",
   "execution_count": 56,
   "metadata": {},
   "outputs": [],
   "source": [
    "cap.release()"
   ]
  }
 ],
 "metadata": {
  "kernelspec": {
   "display_name": "Python 3",
   "language": "python",
   "name": "python3"
  },
  "language_info": {
   "codemirror_mode": {
    "name": "ipython",
    "version": 3
   },
   "file_extension": ".py",
   "mimetype": "text/x-python",
   "name": "python",
   "nbconvert_exporter": "python",
   "pygments_lexer": "ipython3",
   "version": "3.11.9"
  }
 },
 "nbformat": 4,
 "nbformat_minor": 2
}
