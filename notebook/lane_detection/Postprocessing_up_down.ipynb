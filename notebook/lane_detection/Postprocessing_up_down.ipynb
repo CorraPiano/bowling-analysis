{
 "cells": [
  {
   "cell_type": "markdown",
   "id": "c3e65b07",
   "metadata": {},
   "source": [
    "# Postprocessing of upper and bottom lines\n",
    "Fix the problem when the bottom line disappear and fix the upper line"
   ]
  },
  {
   "cell_type": "code",
   "execution_count": 462,
   "id": "07e4eaf6",
   "metadata": {},
   "outputs": [],
   "source": [
    "import cv2\n",
    "from pathlib import Path\n",
    "import numpy as np\n",
    "from matplotlib import pyplot as plt\n",
    "import math\n",
    "import pandas as pd\n",
    "from scipy.signal import savgol_filter\n",
    "from scipy.signal import medfilt\n",
    "from sklearn.cluster import DBSCAN"
   ]
  },
  {
   "cell_type": "markdown",
   "id": "79556f0b",
   "metadata": {},
   "source": [
    "Import video"
   ]
  },
  {
   "cell_type": "code",
   "execution_count": 463,
   "id": "922828f3",
   "metadata": {},
   "outputs": [
    {
     "name": "stdout",
     "output_type": "stream",
     "text": [
      "Opened: True, FPS: 30.0, Total Frames: 118.0\n"
     ]
    }
   ],
   "source": [
    "video_number = \"2\"\n",
    "# Define the relative path to the video file\n",
    "notebook_dir = Path().resolve()\n",
    "project_root = notebook_dir.parent.parent\n",
    "video_path = project_root / \"data\" / f\"recording_{video_number}\" / f\"Recording_{video_number}.mp4\" \n",
    "video_path = str(video_path)\n",
    "\n",
    "# Load the video\n",
    "cap = cv2.VideoCapture(video_path)\n",
    "\n",
    "# Check\n",
    "print(f\"Opened: {cap.isOpened()}, FPS: {cap.get(cv2.CAP_PROP_FPS)}, Total Frames: {cap.get(cv2.CAP_PROP_FRAME_COUNT)}\")"
   ]
  },
  {
   "cell_type": "markdown",
   "id": "b139c2ed",
   "metadata": {},
   "source": [
    "Import points"
   ]
  },
  {
   "cell_type": "code",
   "execution_count": 464,
   "id": "c5eae99c",
   "metadata": {},
   "outputs": [],
   "source": [
    "# Define the path to the CSV file\n",
    "input_data_path = project_root / \"data\" / \"auxiliary_data\" / \"lane_points\" / f\"lane_points_raw_{video_number}.csv\" \n",
    "\n",
    "# Load the CSV file into a DataFrame\n",
    "points_df = pd.read_csv(input_data_path)"
   ]
  },
  {
   "cell_type": "markdown",
   "id": "921f5768",
   "metadata": {},
   "source": [
    "Function to determine when the bottom line disappear"
   ]
  },
  {
   "cell_type": "code",
   "execution_count": 465,
   "id": "1d225134",
   "metadata": {},
   "outputs": [],
   "source": [
    "'''if both are above return them\n",
    "if one is above and the other is below return the one that is above and the other one \n",
    "    compute as the intersection of the lateral line with a line with teh same slope of the first frame that pass through the correct point\n",
    "if both are below return None, None -> fix the prolem later\n",
    "'''\n",
    "def is_disappeared(bl_0, br_0, bl, br, tr, tl, max_y, threshold=0.99):\n",
    "    if bl[1] < max_y*threshold and br[1] < max_y*threshold: # both points are above the threshold -> keep them\n",
    "        return bl, br\n",
    "    # if (bl[1] < max_y*threshold) != (br[1] < max_y*threshold): # one point is above the threshold and the other is below -> keep the one that is above and geth the other one from the first frame\n",
    "    #     if bl[1] < max_y*threshold:\n",
    "    #         br_new = (bl[0] + (br_0[0] - bl_0[0]), bl[1] + (br_0[1] - bl_0[1]))\n",
    "    #         # Calculate the intersection point\n",
    "    #         dx1, dy1 = br_new[0] - tr[0], br_new[1] - tr[1]\n",
    "    #         dx2, dy2 = br_new[0] - bl[0], br_new[1] - bl[1]\n",
    "    #         determinant = dx1 * dy2 - dy1 * dx2\n",
    "    #         if determinant != 0:  # Lines are not parallel\n",
    "    #             t = ((bl[0] - tr[0]) * dy2 - (bl[1] - tr[1]) * dx2) / determinant\n",
    "    #             br_new = (tr[0] + t * dx1, tr[1] + t * dy1)\n",
    "    #         return bl, br_new\n",
    "    #     else:\n",
    "    #         bl_new = br + bl_0 - br_0\n",
    "    #         # Calculate the intersection point\n",
    "    #         dx1, dy1 = bl_new[0] - tl[0], bl_new[1] - tl[1]\n",
    "    #         dx2, dy2 = bl_new[0] - br[0], bl_new[1] - br[1]\n",
    "    #         determinant = dx1 * dy2 - dy1 * dx2\n",
    "    #         if determinant != 0:\n",
    "    #             t = ((br[0] - tl[0]) * dy2 - (br[1] - tl[1]) * dx2) / determinant\n",
    "    #             bl_new = (tl[0] + t * dx1, tl[1] + t * dy1)\n",
    "    #         return bl_new, br\n",
    "    return None, None"
   ]
  },
  {
   "cell_type": "markdown",
   "id": "ee2f3331",
   "metadata": {},
   "source": [
    "Compute the intersection point"
   ]
  },
  {
   "cell_type": "code",
   "execution_count": 466,
   "id": "646eace5",
   "metadata": {},
   "outputs": [],
   "source": [
    "def get_intersection(p1, p2, p3, p4):\n",
    "    # Calculate the direction vectors of the lines\n",
    "    dx1, dy1 = p2[0] - p1[0], p2[1] - p1[1]\n",
    "    dx2, dy2 = p4[0] - p3[0], p4[1] - p3[1]\n",
    "\n",
    "    # Calculate the determinant to check if lines are parallel\n",
    "    determinant = dx1 * dy2 - dy1 * dx2\n",
    "    if determinant == 0:\n",
    "        return None  # Lines are parallel\n",
    "\n",
    "    # Calculate the intersection point using the parametric equations of the lines\n",
    "    t = ((p3[0] - p1[0]) * dy2 - (p3[1] - p1[1]) * dx2) / determinant\n",
    "    intersection = (p1[0] + t * dx1, p1[1] + t * dy1)\n",
    "    \n",
    "    return intersection"
   ]
  },
  {
   "cell_type": "markdown",
   "id": "2431a680",
   "metadata": {},
   "source": [
    "Main Algorithm"
   ]
  },
  {
   "cell_type": "code",
   "execution_count": 467,
   "id": "19188541",
   "metadata": {},
   "outputs": [],
   "source": [
    "def postprocessing(points_df, heigth):\n",
    "    # initial_points = points_df.iloc[0]\n",
    "    bottom_disappeared = False\n",
    "    frame = 10\n",
    "    # compute the relative positions of points in the first frame\n",
    "    # left_relative_position = (points_df.iloc[frame][\"up_left_x\"]-points_df.iloc[frame][\"bottom_left_x\"], points_df.iloc[frame][\"up_left_y\"]-points_df.iloc[frame][\"bottom_left_y\"])\n",
    "    # right_relative_position = (points_df.iloc[frame][\"up_right_x\"]-points_df.iloc[frame][\"bottom_right_x\"], points_df.iloc[frame][\"up_right_y\"]-points_df.iloc[frame][\"bottom_right_y\"])\n",
    "    \n",
    "    df_copy = points_df.copy()\n",
    "    \n",
    "    for i in range(1, len(points_df)):\n",
    "        bl_prev = (df_copy.iloc[i-1][\"bottom_left_x\"], df_copy.iloc[i-1][\"bottom_left_y\"])\n",
    "        br_prev = (df_copy.iloc[i-1][\"bottom_right_x\"], df_copy.iloc[i-1][\"bottom_right_y\"])\n",
    "        tl_prev = (df_copy.iloc[i-1][\"up_left_x\"], df_copy.iloc[i-1][\"up_left_y\"])\n",
    "        tr_prev = (df_copy.iloc[i-1][\"up_right_x\"], df_copy.iloc[i-1][\"up_right_y\"])\n",
    "        bl = (points_df.iloc[i][\"bottom_left_x\"], points_df.iloc[i][\"bottom_left_y\"])\n",
    "        br = (points_df.iloc[i][\"bottom_right_x\"], points_df.iloc[i][\"bottom_right_y\"])\n",
    "        tr = (points_df.iloc[i][\"up_right_x\"], points_df.iloc[i][\"up_right_y\"])\n",
    "        tl = (points_df.iloc[i][\"up_left_x\"], points_df.iloc[i][\"up_left_y\"])\n",
    "\n",
    "        \n",
    "        \n",
    "        if not bottom_disappeared:\n",
    "            # compute relative positions \n",
    "            window_size = 7\n",
    "            if i < window_size:\n",
    "                left_relative_position = (tl_prev[0] - bl_prev[0], tl_prev[1] - bl_prev[1])\n",
    "                right_relative_position = (tr_prev[0] - br_prev[0], tr_prev[1] - br_prev[1])\n",
    "            else:\n",
    "                left_relative_positions = [(df_copy.iloc[j][\"up_left_x\"] - df_copy.iloc[j][\"bottom_left_x\"],\n",
    "                                            df_copy.iloc[j][\"up_left_y\"] - df_copy.iloc[j][\"bottom_left_y\"]) \n",
    "                                           for j in range(i - window_size + 1, i + 1)]\n",
    "                right_relative_positions = [(df_copy.iloc[j][\"up_right_x\"] - df_copy.iloc[j][\"bottom_right_x\"],\n",
    "                                             df_copy.iloc[j][\"up_right_y\"] - df_copy.iloc[j][\"bottom_right_y\"]) \n",
    "                                            for j in range(i - window_size + 1, i + 1)]\n",
    "                \n",
    "                # # mean\n",
    "                # left_relative_position = (sum(pos[0] for pos in left_relative_positions) / window_size,\n",
    "                #                           sum(pos[1] for pos in left_relative_positions) / window_size)\n",
    "                # right_relative_position = (sum(pos[0] for pos in right_relative_positions) / window_size,\n",
    "                #                            sum(pos[1] for pos in right_relative_positions) / window_size)\n",
    "\n",
    "                # lower\n",
    "                left_relative_position = sorted(left_relative_positions, key=lambda pos: pos[1], reverse=True)[1]\n",
    "                right_relative_position = sorted(right_relative_positions, key=lambda pos: pos[1], reverse=True)[1]\n",
    "            # compute the new position of the bottom points in the current frame () if needed\n",
    "            bl_new, br_new = is_disappeared(bl_prev, br_prev, bl, br, tr, tl, heigth)\n",
    "\n",
    "            if bl_new is None and br_new is None:\n",
    "                bottom_disappeared = True\n",
    "                print(f\"Bottom points disappeared at frame {i}.\")\n",
    "            else: # consider correct the bottom points\n",
    "                tr_mid = (br_new[0] + right_relative_position[0], br_new[1] + right_relative_position[1])\n",
    "                tl_mid = (bl_new[0] + left_relative_position[0], bl_new[1] + left_relative_position[1])\n",
    "                # Calculate the intersection point\n",
    "                tr_new = get_intersection(tr_mid, tl_mid, br_new, tr)\n",
    "                tl_new = get_intersection(tl_mid, tr_mid, bl_new, tl)\n",
    "                \n",
    "        if bottom_disappeared: # consider correct the top poits\n",
    "            bl_new = (tl[0] - left_relative_position[0], tl[1] - left_relative_position[1])\n",
    "            br_new = (tr[0] - right_relative_position[0], tr[1] - right_relative_position[1])\n",
    "            tr_new = tr\n",
    "            tl_new = tl\n",
    "\n",
    "        # Update the DataFrame with the new points\n",
    "        points_df.at[i, \"bottom_left_x\"] = bl_new[0]\n",
    "        points_df.at[i, \"bottom_left_y\"] = bl_new[1]\n",
    "        points_df.at[i, \"bottom_right_x\"] = br_new[0]\n",
    "        points_df.at[i, \"bottom_right_y\"] = br_new[1]\n",
    "        points_df.at[i, \"up_left_x\"] = tl_new[0]\n",
    "        points_df.at[i, \"up_left_y\"] = tl_new[1]\n",
    "        points_df.at[i, \"up_right_x\"] = tr_new[0]\n",
    "        points_df.at[i, \"up_right_y\"] = tr_new[1]\n",
    "\n",
    "    return points_df"
   ]
  },
  {
   "cell_type": "markdown",
   "id": "f105fb56",
   "metadata": {},
   "source": [
    "Auxiliary functions"
   ]
  },
  {
   "cell_type": "code",
   "execution_count": 468,
   "id": "81afef62",
   "metadata": {},
   "outputs": [],
   "source": [
    "def lines_from_points(df):\n",
    "    lines =[]\n",
    "    for i in range(len(df)):\n",
    "        bottom = [df.iloc[i]['bottom_right_x'], df.iloc[i]['bottom_right_y'], df.iloc[i]['bottom_left_x'], df.iloc[i]['bottom_left_y']]\n",
    "        top = [df.iloc[i]['up_right_x'], df.iloc[i]['up_right_y'], df.iloc[i]['up_left_x'], df.iloc[i]['up_left_y']]\n",
    "        left = [df.iloc[i]['bottom_left_x'], df.iloc[i]['bottom_left_y'], df.iloc[i]['up_left_x'], df.iloc[i]['up_left_y']]\n",
    "        right = [df.iloc[i]['bottom_right_x'], df.iloc[i]['bottom_right_y'], df.iloc[i]['up_right_x'], df.iloc[i]['up_right_y']]\n",
    "        \n",
    "        # Append the line to the list\n",
    "        lines.append([bottom, top, left, right])\n",
    "    return lines"
   ]
  },
  {
   "cell_type": "code",
   "execution_count": 469,
   "id": "f9e9b300",
   "metadata": {},
   "outputs": [],
   "source": [
    "'''Disegna la linea sul frame'''\n",
    "def write_line_on_frame(frame, line):\n",
    "    # Create a copy of the original frame to draw the first line\n",
    "    modified_frame = np.copy(frame)\n",
    "\n",
    "    # Extract the first line's rho and theta\n",
    "    if line is not None:\n",
    "        x1, y1, x2, y2 = line\n",
    "        \n",
    "        # Draw the first line on the frame\n",
    "        cv2.line(modified_frame, (int(x1), int(y1)), (int(x2), int(y2)), (0, 255, 0), 2)\n",
    "\n",
    "    # return the modified frame\n",
    "    return modified_frame"
   ]
  },
  {
   "cell_type": "code",
   "execution_count": 470,
   "id": "b4088b1f",
   "metadata": {},
   "outputs": [],
   "source": [
    "def write_lines_on_frame(frame, lines):\n",
    "    for i in range(len(lines)):\n",
    "        # print('linea', i, ':', lines[i])\n",
    "        frame = write_line_on_frame(frame, lines[i])\n",
    "    return frame"
   ]
  },
  {
   "cell_type": "markdown",
   "id": "16eea54d",
   "metadata": {},
   "source": [
    "Generate the video"
   ]
  },
  {
   "cell_type": "code",
   "execution_count": 471,
   "id": "7563fa98",
   "metadata": {},
   "outputs": [
    {
     "name": "stderr",
     "output_type": "stream",
     "text": [
      "C:\\Users\\miche\\AppData\\Local\\Temp\\ipykernel_6872\\500553994.py:70: FutureWarning: Setting an item of incompatible dtype is deprecated and will raise an error in a future version of pandas. Value '965.071564076444' has dtype incompatible with int64, please explicitly cast to a compatible dtype first.\n",
      "  points_df.at[i, \"up_left_x\"] = tl_new[0]\n",
      "C:\\Users\\miche\\AppData\\Local\\Temp\\ipykernel_6872\\500553994.py:71: FutureWarning: Setting an item of incompatible dtype is deprecated and will raise an error in a future version of pandas. Value '450.99745633993547' has dtype incompatible with int64, please explicitly cast to a compatible dtype first.\n",
      "  points_df.at[i, \"up_left_y\"] = tl_new[1]\n",
      "C:\\Users\\miche\\AppData\\Local\\Temp\\ipykernel_6872\\500553994.py:72: FutureWarning: Setting an item of incompatible dtype is deprecated and will raise an error in a future version of pandas. Value '1331.3074482956379' has dtype incompatible with int64, please explicitly cast to a compatible dtype first.\n",
      "  points_df.at[i, \"up_right_x\"] = tr_new[0]\n",
      "C:\\Users\\miche\\AppData\\Local\\Temp\\ipykernel_6872\\500553994.py:73: FutureWarning: Setting an item of incompatible dtype is deprecated and will raise an error in a future version of pandas. Value '452.0008423240976' has dtype incompatible with int64, please explicitly cast to a compatible dtype first.\n",
      "  points_df.at[i, \"up_right_y\"] = tr_new[1]\n"
     ]
    },
    {
     "name": "stdout",
     "output_type": "stream",
     "text": [
      "Adjusted video saved to C:\\Users\\miche\\OneDrive\\Documenti\\GitHub\\bowling-analysis\\data\\recording_2\\Lane.mp4\n"
     ]
    }
   ],
   "source": [
    "# Reset the video to the beginning\n",
    "cap.set(cv2.CAP_PROP_POS_FRAMES, 0)\n",
    "\n",
    "# Define the codec and create a VideoWriter object to save the modified frames\n",
    "output_path = project_root / \"data\" / f\"recording_{video_number}\"  / \"Lane.mp4\"\n",
    "fourcc = cv2.VideoWriter_fourcc(*'mp4v')  # Use 'mp4v' codec for MP4 format\n",
    "fps = int(cap.get(cv2.CAP_PROP_FPS))\n",
    "frame_width = int(cap.get(cv2.CAP_PROP_FRAME_WIDTH))\n",
    "frame_height = int(cap.get(cv2.CAP_PROP_FRAME_HEIGHT))\n",
    "out = cv2.VideoWriter(str(output_path), fourcc, fps, (frame_width, frame_height))\n",
    "\n",
    "# Process the lines\n",
    "processed_points_df = postprocessing(points_df, frame_height)\n",
    "lines = lines_from_points(processed_points_df)\n",
    "# print('Processed lines:', lines)\n",
    "\n",
    "\n",
    "# Loop through each frame in the video\n",
    "frame_index = 0\n",
    "while frame_index < len(lines):\n",
    "    ret, video_frame = cap.read()\n",
    "    if not ret:\n",
    "        print(\"End of video or failed to read the frame at iteration\", frame_index)\n",
    "        break\n",
    "    # print(f\"Processing frame {frame_index}\")\n",
    "\n",
    "    # draw the lines on the frame   \n",
    "    modified_frame = write_lines_on_frame(video_frame, lines[frame_index])\n",
    "\n",
    "\n",
    "    # Write the modified frame to the output video\n",
    "    out.write(modified_frame)\n",
    "\n",
    "    # Increment the frame index\n",
    "    frame_index += 1\n",
    "\n",
    "# Release the video capture and writer objects\n",
    "# cap.release()\n",
    "out.release()\n",
    "\n",
    "print(f\"Adjusted video saved to {output_path}\")"
   ]
  }
 ],
 "metadata": {
  "kernelspec": {
   "display_name": "Python 3",
   "language": "python",
   "name": "python3"
  },
  "language_info": {
   "codemirror_mode": {
    "name": "ipython",
    "version": 3
   },
   "file_extension": ".py",
   "mimetype": "text/x-python",
   "name": "python",
   "nbconvert_exporter": "python",
   "pygments_lexer": "ipython3",
   "version": "3.11.9"
  }
 },
 "nbformat": 4,
 "nbformat_minor": 5
}
