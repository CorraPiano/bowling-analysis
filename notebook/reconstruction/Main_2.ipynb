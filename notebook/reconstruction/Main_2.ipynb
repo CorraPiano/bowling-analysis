{
 "cells": [
  {
   "cell_type": "markdown",
   "metadata": {},
   "source": [
    "# Main code to run the **Reconstruction**"
   ]
  },
  {
   "cell_type": "code",
   "execution_count": 4,
   "metadata": {},
   "outputs": [],
   "source": [
    "from pathlib import Path"
   ]
  },
  {
   "cell_type": "markdown",
   "metadata": {},
   "source": [
    "### Reconstruction\n",
    "\n",
    "Here I only create the file Trasformed_positions in which there are the positions of the ball in the new refecence system"
   ]
  },
  {
   "cell_type": "code",
   "execution_count": 9,
   "metadata": {},
   "outputs": [
    {
     "name": "stdout",
     "output_type": "stream",
     "text": [
      "Transformed data saved to /home/davic/projects/IACV_project/bowling-analysis/data/auxiliary_data/reconstructed_positions/Transformed_positions_raw_7.csv.\n"
     ]
    }
   ],
   "source": [
    "VIDEO_NUMBER = \"7\"\n",
    "PROJECT_ROOT = Path().resolve().parent.parent\n",
    "CSV_POSITIONS_FILE_PATH = str(PROJECT_ROOT / \"data\" / \"auxiliary_data\" / \"lane_points\" / f\"lane_points_processed_{VIDEO_NUMBER}.csv\")\n",
    "CSV_POINTS_POSITIONS_FILE_PATH = str(PROJECT_ROOT / \"notebook\" / \"ball_detection\" / \"intermediate_data\" / f\"Circle_positions_cleaned_{VIDEO_NUMBER}.csv\")\n",
    "OUTPUT_CSV_PATH = str(PROJECT_ROOT / \"data\" / \"auxiliary_data\" / \"reconstructed_positions\" / f\"Transformed_positions_raw_{VIDEO_NUMBER}.csv\")\n",
    "\n",
    "%run -i ~/projects/IACV_project/bowling-analysis/notebook/reconstruction/Reconstruction_2.py"
   ]
  },
  {
   "cell_type": "markdown",
   "metadata": {},
   "source": [
    "IMPROVEMENT: now the homography matrix is calculated one time for all the video. We need to calculate it for each frame (required detection for each frame)"
   ]
  },
  {
   "cell_type": "markdown",
   "metadata": {},
   "source": [
    "Following the reconstruction with the points processed"
   ]
  },
  {
   "cell_type": "code",
   "execution_count": 10,
   "metadata": {},
   "outputs": [
    {
     "name": "stdout",
     "output_type": "stream",
     "text": [
      "Transformed data saved to /home/davic/projects/IACV_project/bowling-analysis/data/auxiliary_data/reconstructed_positions/Transformed_positions_processed_2.csv.\n"
     ]
    }
   ],
   "source": [
    "PROJECT_ROOT = Path().resolve().parent.parent\n",
    "CSV_POSITIONS_FILE_PATH = str(PROJECT_ROOT / \"data\" / \"auxiliary_data\" / \"lane_points\" / \"lane_points_processed_2.csv\")\n",
    "CSV_POINTS_POSITIONS_FILE_PATH = str(PROJECT_ROOT / \"data\" / \"auxiliary_data\" / \"circle_positions\" / \"Circle_positions_processed_2.csv\")\n",
    "OUTPUT_CSV_PATH = str(PROJECT_ROOT / \"data\" / \"auxiliary_data\" / \"reconstructed_positions\" / \"Transformed_positions_processed_2.csv\")\n",
    "\n",
    "%run -i ~/projects/IACV_project/bowling-analysis/notebook/reconstruction/Reconstruction_2.py"
   ]
  }
 ],
 "metadata": {
  "kernelspec": {
   "display_name": ".venv",
   "language": "python",
   "name": "python3"
  },
  "language_info": {
   "codemirror_mode": {
    "name": "ipython",
    "version": 3
   },
   "file_extension": ".py",
   "mimetype": "text/x-python",
   "name": "python",
   "nbconvert_exporter": "python",
   "pygments_lexer": "ipython3",
   "version": "3.12.3"
  }
 },
 "nbformat": 4,
 "nbformat_minor": 2
}
