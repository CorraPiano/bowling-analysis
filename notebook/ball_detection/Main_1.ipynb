{
 "cells": [
  {
   "cell_type": "markdown",
   "metadata": {},
   "source": [
    "# Main code to run the **Detection**"
   ]
  },
  {
   "cell_type": "code",
   "execution_count": 2,
   "metadata": {},
   "outputs": [],
   "source": [
    "from pathlib import Path"
   ]
  },
  {
   "cell_type": "markdown",
   "metadata": {},
   "source": [
    "## Creation of the Circle_positions file\n",
    "\n",
    "If not present the file */data/auxiliary_data/Circle_positions.csv* run the Detection code in order to produce it"
   ]
  },
  {
   "cell_type": "markdown",
   "metadata": {},
   "source": [
    "### Detection"
   ]
  },
  {
   "cell_type": "code",
   "execution_count": null,
   "metadata": {},
   "outputs": [],
   "source": [
    "# %load ~/projects/IACV_project/bowling-analysis/notebook/ball_detection/Detection_2.py"
   ]
  },
  {
   "cell_type": "code",
   "execution_count": null,
   "metadata": {},
   "outputs": [
    {
     "name": "stdout",
     "output_type": "stream",
     "text": [
      "Processed 275 frames. \n",
      "Circle positions saved to /home/davic/projects/IACV_project/bowling-analysis/data/auxiliary_data/circle_positions/Circle_positions_2.0.csv. \n",
      "Video with ball detection saved to /home/davic/projects/IACV_project/bowling-analysis/data/recording_2/Output_detected_test_2.0.mp4\n"
     ]
    }
   ],
   "source": [
    "PROJECT_ROOT = Path().resolve().parent.parent\n",
    "INPUT_VIDEO_PATH = str(PROJECT_ROOT / \"data\" / \"recording_2\" / \"Recording_2.mp4\")\n",
    "INPUT_CSV_PATH = str(PROJECT_ROOT / \"data\" / \"auxiliary_data\" / \"lane_points\" / \"lane_points_2_frame_100.csv\")      # TODO: change to have the lane for each frame\n",
    "OUTPUT_VIDEO_PATH = str(PROJECT_ROOT / \"data\" / \"recording_2\" / \"Output_detected_test_2.0.mp4\")\n",
    "OUTPUT_CSV_PATH = str(PROJECT_ROOT / \"data\" / \"auxiliary_data\" / \"circle_positions\" / \"Circle_positions_2.0.csv\")\n",
    "\n",
    "%run -i ~/projects/IACV_project/bowling-analysis/notebook/ball_detection/Detection_2.py"
   ]
  },
  {
   "cell_type": "markdown",
   "metadata": {},
   "source": [
    "### Post-processing coordinates and radius"
   ]
  },
  {
   "cell_type": "code",
   "execution_count": 5,
   "metadata": {},
   "outputs": [
    {
     "name": "stdout",
     "output_type": "stream",
     "text": [
      "New circle positions saved to /home/davic/projects/IACV_project/bowling-analysis/data/auxiliary_data/circle_positions/Circle_positions_2.0_clean.csv.\n",
      "New radius values saved to /home/davic/projects/IACV_project/bowling-analysis/data/auxiliary_data/circle_positions/Circle_positions_2.0_clean_radius.csv.\n"
     ]
    }
   ],
   "source": [
    "PROJECT_ROOT = Path().resolve().parent.parent\n",
    "INPUT_CSV_PATH = str(PROJECT_ROOT / \"data\" / \"auxiliary_data\" / \"circle_positions\" / \"Circle_positions_2.0.csv\")\n",
    "OUTPUT_CSV_PATH = str(PROJECT_ROOT / \"data\" / \"auxiliary_data\" / \"circle_positions\" / \"Circle_positions_2.0_clean.csv\")\n",
    "CSV_POSITIONS_FILE_PATH_NEW = str(PROJECT_ROOT / \"data\" / \"auxiliary_data\" / \"circle_positions\" / \"Circle_positions_2.0_clean_radius.csv\")\n",
    "\n",
    "%run -i ~/projects/IACV_project/bowling-analysis/notebook/ball_detection/Post-processing.py"
   ]
  },
  {
   "cell_type": "markdown",
   "metadata": {},
   "source": [
    "After all these processes I want to mantain only the csv file with the final coordinates and radius of the ball"
   ]
  },
  {
   "cell_type": "code",
   "execution_count": null,
   "metadata": {},
   "outputs": [],
   "source": [
    "# Delete auxiliary data no more useful\n",
    "path_to_delete_1 = Path(INPUT_CSV_PATH)\n",
    "path_to_delete_2 = Path(OUTPUT_CSV_PATH)\n",
    "path_to_delete_1.unlink()\n",
    "path_to_delete_2.unlink()\n",
    "\n",
    "# What about Average_circle_position_2?"
   ]
  }
 ],
 "metadata": {
  "kernelspec": {
   "display_name": ".venv",
   "language": "python",
   "name": "python3"
  },
  "language_info": {
   "codemirror_mode": {
    "name": "ipython",
    "version": 3
   },
   "file_extension": ".py",
   "mimetype": "text/x-python",
   "name": "python",
   "nbconvert_exporter": "python",
   "pygments_lexer": "ipython3",
   "version": "3.12.3"
  }
 },
 "nbformat": 4,
 "nbformat_minor": 2
}
