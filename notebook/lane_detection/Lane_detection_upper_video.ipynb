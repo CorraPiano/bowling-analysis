{
 "cells": [
  {
   "cell_type": "markdown",
   "id": "28f3ac13",
   "metadata": {},
   "source": [
    "# Detection of the upper line"
   ]
  },
  {
   "cell_type": "code",
   "execution_count": 2,
   "id": "86a044ea",
   "metadata": {},
   "outputs": [],
   "source": [
    "import numpy as np\n",
    "import cv2\n",
    "from pathlib import Path\n",
    "from matplotlib import pyplot as plt\n",
    "import pandas as pd\n",
    "import math"
   ]
  },
  {
   "cell_type": "markdown",
   "id": "1afbe479",
   "metadata": {},
   "source": [
    "Import video"
   ]
  },
  {
   "cell_type": "code",
   "execution_count": 3,
   "id": "78473bfc",
   "metadata": {},
   "outputs": [
    {
     "name": "stdout",
     "output_type": "stream",
     "text": [
      "Opened: True, FPS: 59.94005994005994, Total Frames: 227.0\n"
     ]
    }
   ],
   "source": [
    "video_number = \"3\"\n",
    "# Define the relative path to the video file\n",
    "notebook_dir = Path().resolve()\n",
    "project_root = notebook_dir.parent.parent\n",
    "video_path = project_root / \"data\" / f\"recording_{video_number}\" / f\"Recording_{video_number}.mp4\" \n",
    "video_path = str(video_path)\n",
    "\n",
    "# Load the video\n",
    "cap = cv2.VideoCapture(video_path)\n",
    "\n",
    "# Check\n",
    "print(f\"Opened: {cap.isOpened()}, FPS: {cap.get(cv2.CAP_PROP_FPS)}, Total Frames: {cap.get(cv2.CAP_PROP_FRAME_COUNT)}\")"
   ]
  },
  {
   "cell_type": "markdown",
   "id": "05151689",
   "metadata": {},
   "source": [
    "Import lines"
   ]
  },
  {
   "cell_type": "code",
   "execution_count": 4,
   "id": "f272e8df",
   "metadata": {},
   "outputs": [],
   "source": [
    "# Define the iinput path for the lines CSV file\n",
    "input_lines_path = project_root / \"notebook\"/ \"lane_detection\" / \"intermediate_data\" / \"lane_lines\" / f\"definitive_lines_{video_number}.csv\"\n",
    "df = pd.read_csv(input_lines_path)"
   ]
  },
  {
   "cell_type": "markdown",
   "id": "6a8ba329",
   "metadata": {},
   "source": [
    "Import the template"
   ]
  },
  {
   "cell_type": "code",
   "execution_count": 5,
   "id": "c1d6aec6",
   "metadata": {},
   "outputs": [],
   "source": [
    "# Function to display an image\n",
    "def showImage(image, title=\"Image\"):\n",
    "    plt.figure(figsize=(10, 6))\n",
    "    plt.imshow(cv2.cvtColor(image, cv2.COLOR_BGR2RGB))\n",
    "    plt.title(title)\n",
    "    plt.axis(\"off\")\n",
    "    plt.show()"
   ]
  },
  {
   "cell_type": "code",
   "execution_count": 6,
   "id": "7aea01b5",
   "metadata": {},
   "outputs": [
    {
     "data": {
      "image/png": "[encoded data removed]",
      "text/plain": [
       "<Figure size 1000x600 with 1 Axes>"
      ]
     },
     "metadata": {},
     "output_type": "display_data"
    }
   ],
   "source": [
    "template = cv2.imread('intermediate_data/Template_pin_3.png', 0) # 0 for the grayscale image\n",
    "\n",
    "template_heigth, template_width = template.shape\n",
    "\n",
    "showImage(template, \"Template\")"
   ]
  },
  {
   "cell_type": "markdown",
   "id": "d6dff7ef",
   "metadata": {},
   "source": [
    "## Functions"
   ]
  },
  {
   "cell_type": "markdown",
   "id": "38230b77",
   "metadata": {},
   "source": [
    "Draw line - lines on a single frame"
   ]
  },
  {
   "cell_type": "code",
   "execution_count": 7,
   "id": "cb68bceb",
   "metadata": {},
   "outputs": [],
   "source": [
    "# Funzione per estendere una linea\n",
    "def extend_line(x1, y1, x2, y2, length=1000):\n",
    "    # Calcola la lunghezza originale della linea\n",
    "    dx, dy = x2 - x1, y2 - y1\n",
    "    norm = np.sqrt(dx**2 + dy**2)  # Distanza euclidea tra i due punti\n",
    "\n",
    "    # Evita divisioni per zero\n",
    "    if norm == 0:\n",
    "        return x1, y1, x2, y2  \n",
    "\n",
    "    # Calcola i punti estesi\n",
    "    x1_ext = int(x1 - length * (dx / norm))\n",
    "    y1_ext = int(y1 - length * (dy / norm))\n",
    "    x2_ext = int(x2 + length * (dx / norm))\n",
    "    y2_ext = int(y2 + length * (dy / norm))\n",
    "\n",
    "    return x1_ext, y1_ext, x2_ext, y2_ext"
   ]
  },
  {
   "cell_type": "code",
   "execution_count": 8,
   "id": "690e7640",
   "metadata": {},
   "outputs": [],
   "source": [
    "'''Disegna la linea sul frame'''\n",
    "def write_line_on_frame(frame, line):\n",
    "    # Create a copy of the original frame to draw the first line\n",
    "    modified_frame = np.copy(frame)\n",
    "\n",
    "    if line is not None:\n",
    "        x1, y1, x2, y2 = line\n",
    "        \n",
    "       # Allunga la linea di 1000 pixel da entrambe le estremità\n",
    "        x1_ext, y1_ext, x2_ext, y2_ext = extend_line(x1, y1, x2, y2, length=1000)\n",
    "        \n",
    "        # Disegna la linea estesa\n",
    "        cv2.line(modified_frame, (x1_ext, y1_ext), (x2_ext, y2_ext), (0, 255, 0), 2)\n",
    "\n",
    "    # return the modified frame\n",
    "    return modified_frame"
   ]
  },
  {
   "cell_type": "code",
   "execution_count": 9,
   "id": "59e0ced9",
   "metadata": {},
   "outputs": [],
   "source": [
    "def write_lines_on_frame(frame, lines):\n",
    "    for i in range(len(lines)):\n",
    "        frame = write_line_on_frame(frame, lines[i])\n",
    "    return frame"
   ]
  },
  {
   "cell_type": "markdown",
   "id": "8ab9da61",
   "metadata": {},
   "source": [
    "Extend the lines until the edges of the image"
   ]
  },
  {
   "cell_type": "code",
   "execution_count": 10,
   "id": "b485bd4c",
   "metadata": {},
   "outputs": [],
   "source": [
    "# --- Helper functions ---\n",
    "def get_extended_line(line, img_width, img_height):\n",
    "    \"\"\"Extend a line to the image boundaries.\"\"\"\n",
    "    x1, y1, x2, y2 = line\n",
    "    if x1 == x2:\n",
    "        return (x1, 0), (x2, img_height)\n",
    "    \n",
    "    m = (y2 - y1) / (x2 - x1)\n",
    "    b = y1 - m * x1\n",
    "    points = []\n",
    "\n",
    "    y_left = int(m * 0 + b)\n",
    "    y_right = int(m * img_width + b)\n",
    "    if 0 <= y_left <= img_height:\n",
    "        points.append((0, y_left))\n",
    "    if 0 <= y_right <= img_height:\n",
    "        points.append((img_width, y_right))\n",
    "\n",
    "    if m != 0:\n",
    "        x_top = int((0 - b) / m)\n",
    "        x_bottom = int((img_height - b) / m)\n",
    "        if 0 <= x_top <= img_width:\n",
    "            points.append((x_top, 0))\n",
    "        if 0 <= x_bottom <= img_width:\n",
    "            points.append((x_bottom, img_height))\n",
    "    if len(points) < 2:\n",
    "        return [x1, y1, x2, y2]\n",
    "    extended_line = [points[0][0], points[0][1], points[1][0], points[1][1]]\n",
    "\n",
    "    return extended_line"
   ]
  },
  {
   "cell_type": "markdown",
   "id": "59f9a079",
   "metadata": {},
   "source": [
    "compute the determinant"
   ]
  },
  {
   "cell_type": "code",
   "execution_count": 11,
   "id": "16e881ba",
   "metadata": {},
   "outputs": [],
   "source": [
    "def det(a, b):\n",
    "    return a[0] * b[1] - a[1] * b[0]"
   ]
  },
  {
   "cell_type": "markdown",
   "id": "5cc664e2",
   "metadata": {},
   "source": [
    "Get the intersection point between 2 lines"
   ]
  },
  {
   "cell_type": "code",
   "execution_count": 12,
   "id": "7736127f",
   "metadata": {},
   "outputs": [],
   "source": [
    "def get_intersection(line_1, line_2):\n",
    "    \"\"\"Find the intersection point of two lines.\"\"\"\n",
    "    xdiff = (line_1[0] - line_1[2], line_2[0] - line_2[2])\n",
    "    ydiff = (line_1[1] - line_1[3], line_2[1] - line_2[3])\n",
    "\n",
    "    div = det(xdiff, ydiff)\n",
    "    if div == 0:\n",
    "        return None\n",
    "\n",
    "    d = (det((line_1[0], line_1[1]), (line_1[2], line_1[3])), \n",
    "           det((line_2[0], line_2[1]), (line_2[2], line_2[3])))\n",
    "    x = int(det(d, xdiff) / div)\n",
    "    y = int(det(d, ydiff) / div)\n",
    "    return x, y"
   ]
  },
  {
   "cell_type": "markdown",
   "id": "1e6b6ef7",
   "metadata": {},
   "source": [
    "Cut the part of the image that is inside the triangle created by the lines"
   ]
  },
  {
   "cell_type": "code",
   "execution_count": 13,
   "id": "51085d95",
   "metadata": {},
   "outputs": [],
   "source": [
    "def cut_frame(frame, bottom_line, left_line, rigth_line):\n",
    "    \"\"\"Cut the image based on the lines defined in the DataFrame.\"\"\"\n",
    "    width = frame.shape[1]\n",
    "    height = frame.shape[0]\n",
    "    # --- Get extended lines ---\n",
    "    bottom_line = get_extended_line(bottom_line, width, height)\n",
    "    left_line = get_extended_line(left_line, width, height)\n",
    "    rigth_line = get_extended_line(rigth_line, width, height)\n",
    "\n",
    "    # --- Get triangle intersection points ---\n",
    "    int1 = get_intersection(bottom_line, left_line)\n",
    "    int2 = get_intersection(bottom_line, rigth_line)\n",
    "    int3 = get_intersection(left_line, rigth_line)\n",
    "\n",
    "    if None in [int1, int2, int3]:\n",
    "        raise ValueError(\"Could not find all three triangle points\")\n",
    "\n",
    "    triangle = np.array([int1, int2, int3])\n",
    "\n",
    "    # --- Create mask and apply it ---\n",
    "    mask = np.zeros((height, width), dtype=np.uint8)\n",
    "    cv2.drawContours(mask, [triangle], 0, 255, -1)\n",
    "\n",
    "    masked_frame = cv2.bitwise_and(frame, frame, mask=mask)\n",
    "\n",
    "    # showImage(masked_frame, \"After removing background\")\n",
    "\n",
    "    return masked_frame, triangle"
   ]
  },
  {
   "cell_type": "markdown",
   "id": "148af7bf",
   "metadata": {},
   "source": [
    "Extract only brown and rose colors"
   ]
  },
  {
   "cell_type": "code",
   "execution_count": 14,
   "id": "dc009f6b",
   "metadata": {},
   "outputs": [],
   "source": [
    "def extract_br_frame(frame):\n",
    "    # Convert frame to HSV color space\n",
    "    hsv = cv2.cvtColor(frame, cv2.COLOR_BGR2HSV)\n",
    "\n",
    "    # Brown range\n",
    "    lower_brown = np.array([00, 00, 50])\n",
    "    upper_brown = np.array([20, 255, 255])\n",
    "\n",
    "    '''\n",
    "    Hue -> Covers reddish to yellowish-brown tones\n",
    "    Saturation -> Filters out grays\n",
    "    Value -> Keeps medium to bright pixels, avoids too-dark shadows\n",
    "    '''\n",
    "\n",
    "    # Rose (pinkish-red) \n",
    "    lower_rose = np.array([150, 30, 200])\n",
    "    upper_rose = np.array([180, 200, 255])\n",
    "\n",
    "    '''\n",
    "    Hue -> Covers magenta, pink, and rose hues\n",
    "    Saturation -> Avoids overly dull or overly neon colors\n",
    "    Value -> Captures only the bright parts\n",
    "    '''\n",
    "\n",
    "    # Create masks\n",
    "    mask_brown = cv2.inRange(hsv, lower_brown, upper_brown)\n",
    "    mask_rose = cv2.inRange(hsv, lower_rose, upper_rose)\n",
    "\n",
    "    # Combine both masks\n",
    "    combined_mask = cv2.bitwise_or(mask_brown, mask_rose)\n",
    "\n",
    "    # Apply the combined mask to the original frame\n",
    "    brown_and_rose_frame = cv2.bitwise_and(frame, frame, mask=combined_mask)\n",
    "\n",
    "    return brown_and_rose_frame"
   ]
  },
  {
   "cell_type": "markdown",
   "id": "e2fb60d8",
   "metadata": {},
   "source": [
    "Get the first horizontal line where the % of black is > 98%"
   ]
  },
  {
   "cell_type": "code",
   "execution_count": 15,
   "id": "f0bddcd2",
   "metadata": {},
   "outputs": [],
   "source": [
    "def get_upper_horizontal_line_first_estimate(frame, triangle):\n",
    "    # Threshold for black (treat anything darker than this as black)\n",
    "    black_thresh = 30\n",
    "\n",
    "    # Convert masked image to grayscale for easier intensity check\n",
    "    gray_masked = cv2.cvtColor(frame, cv2.COLOR_BGR2GRAY)\n",
    "\n",
    "    # Start from row y = 100\n",
    "    start_y = triangle[0][1]\n",
    "    height = gray_masked.shape[0]\n",
    "    width = gray_masked.shape[1]\n",
    "    stop_row = None\n",
    "\n",
    "    for y in range(start_y, -1, -1):  # go from int1 down to 0\n",
    "        row = gray_masked[y, :]\n",
    "        non_black_pixels = np.count_nonzero(row > black_thresh)\n",
    "        percentage_non_black = (non_black_pixels / len(row)) * 100\n",
    "\n",
    "        if percentage_non_black < 2:\n",
    "            stop_row = y\n",
    "            print(f\"Stopped at row {y} with {percentage_non_black:.2f}% non-black pixels\")\n",
    "            break\n",
    "\n",
    "    if stop_row is None:\n",
    "        print(\"No row found with <2% non-black pixels after y=100.\")\n",
    "        return None\n",
    "    \n",
    "    # # Optional: visualize the stopping row on the image\n",
    "    # annotated = frame.copy()\n",
    "    # cv2.line(annotated, (0, stop_row), (annotated.shape[1], stop_row), (0, 255, 0), 2)\n",
    "\n",
    "    # plt.figure(figsize=(10, 5))\n",
    "    # plt.title(\"Detected Stop Row\")\n",
    "    # plt.imshow(cv2.cvtColor(annotated, cv2.COLOR_BGR2RGB))\n",
    "    # plt.axis('off')\n",
    "    # plt.show()\n",
    "\n",
    "        # --- Define the horizontal line  ---\n",
    "    horizontal_upper_line =[0, y, width, y]\n",
    "\n",
    "    return horizontal_upper_line"
   ]
  },
  {
   "cell_type": "markdown",
   "id": "831d2133",
   "metadata": {},
   "source": [
    "Compute euclidean distance between 2 points"
   ]
  },
  {
   "cell_type": "code",
   "execution_count": 16,
   "id": "a46072e5",
   "metadata": {},
   "outputs": [],
   "source": [
    "# --- Calculate the distance between the two intersection points ---\n",
    "def euclidean_distance(p1, p2):\n",
    "    return np.sqrt((p2[0] - p1[0])**2 + (p2[1] - p1[1])**2)"
   ]
  },
  {
   "cell_type": "markdown",
   "id": "705ee061",
   "metadata": {},
   "source": [
    "Apply template matching to detect a better line"
   ]
  },
  {
   "cell_type": "code",
   "execution_count": 17,
   "id": "c6d8e167",
   "metadata": {},
   "outputs": [],
   "source": [
    "def template_matching(br_frame, template, upper_horizontal_estimated, left_line, right_line):\n",
    "    # computed estimated intersection between upper and lateral lines\n",
    "    intersection_left = get_intersection(left_line, upper_horizontal_estimated)\n",
    "    intersection_right = get_intersection(right_line, upper_horizontal_estimated)\n",
    "    # compute the length of the upper line in the frame\n",
    "    distance = euclidean_distance(intersection_left, intersection_right)\n",
    "\n",
    "    # Compute the correct dimension of the template\n",
    "    lane_width = 1066\n",
    "    pin_height_real = 381 + 40 # 20 is the margin taken from the template\n",
    "    pin_height_template = template.shape[0]\n",
    "    pin_width_template = template.shape[1]\n",
    "\n",
    "    pin_height = (pin_height_real * distance) / lane_width\n",
    "    f = pin_height / pin_height_template\n",
    "\n",
    "    template = cv2.resize(template, (0, 0), fx=f, fy=f)\n",
    "\n",
    "    # print(\"Original template size:\", pin_width_template, pin_height_template)\n",
    "    # print(\"Scaling factors -> fx:\", f, \"fy:\", f)\n",
    "\n",
    "    new_width = int(pin_width_template * f)\n",
    "    new_height = int(pin_height_template * f)\n",
    "\n",
    "    # print(\"New template size:\", new_width, new_height)\n",
    "\n",
    "    # --- Template matching ---\n",
    "    gray_frame = cv2.cvtColor(br_frame, cv2.COLOR_BGR2GRAY)\n",
    "\n",
    "    # Method for doing Template Matching\n",
    "    method = cv2.TM_CCOEFF\n",
    "\n",
    "    img = gray_frame.copy()\n",
    "    result = cv2.matchTemplate(img, template, method) # This performs Convolution, the output will be (Width - w + 1, Height - h + 1)\n",
    "    min_val, max_val, min_loc, max_loc = cv2.minMaxLoc(result) # This returns min, max values, min, max locations\n",
    "    location = max_loc\n",
    "        \n",
    "    bottom_right = (location[0] + new_width, location[1] + new_height)\n",
    "    # print(f\"Coordinates of the bottom right location:\", bottom_right)\n",
    "\n",
    "    # # Optional: visualize the template matching result\n",
    "    # img = cv2.cvtColor(img, cv2.COLOR_GRAY2RGB)\n",
    "    # cv2.rectangle(img, location, bottom_right, color=(0,255,0), thickness=2)\n",
    "    # cv2.circle(img, bottom_right, 8, (0, 0, 255), -1)\n",
    "    # showImage(img, \"Pin detection\")\n",
    "\n",
    "    return bottom_right"
   ]
  },
  {
   "cell_type": "markdown",
   "id": "cd05441b",
   "metadata": {},
   "source": [
    "Calculate the angle of the line"
   ]
  },
  {
   "cell_type": "code",
   "execution_count": 18,
   "id": "e4ca650f",
   "metadata": {},
   "outputs": [],
   "source": [
    "# Function to calculate the angle of a line\n",
    "def calculate_angle(x1, y1, x2, y2):\n",
    "    return math.degrees(math.atan2(y2 - y1, x2 - x1))"
   ]
  },
  {
   "cell_type": "markdown",
   "id": "a5abdbfb",
   "metadata": {},
   "source": [
    "Correct the inclination of the upper line"
   ]
  },
  {
   "cell_type": "code",
   "execution_count": 19,
   "id": "efcc829c",
   "metadata": {},
   "outputs": [],
   "source": [
    "def correct_inclination(bottom_right, bottom_line, frame):\n",
    "    slope_bottom_line = np.deg2rad(calculate_angle(bottom_line[0], bottom_line[1], bottom_line[2], bottom_line[3]))\n",
    "    # Lenght between the detected point and the point I want to create\n",
    "    length = 100 \n",
    "\n",
    "    # Calculate two points along the line\n",
    "    ux1 = int(bottom_right[0] - length)\n",
    "    uy1 = int(bottom_right[1] - slope_bottom_line/2 * length) # TODO: change the /2 because it is wrong\n",
    "    ux2 = int(bottom_right[0] + length)\n",
    "    uy2 = int(bottom_right[1] + slope_bottom_line/2 * length) # TODO: change the /2 because it is wrong\n",
    "\n",
    "    # Calculate the extended line points\n",
    "    width = frame.shape[1]\n",
    "    height = frame.shape[0]\n",
    "    upper_line = get_extended_line([ux1, uy1, ux2, uy2], width, height)\n",
    "\n",
    "    return upper_line"
   ]
  },
  {
   "cell_type": "markdown",
   "id": "0bf028a2",
   "metadata": {},
   "source": [
    "Main"
   ]
  },
  {
   "cell_type": "code",
   "execution_count": 20,
   "id": "c875837f",
   "metadata": {},
   "outputs": [],
   "source": [
    "def get_upper_line(frame, bottom_line, left_line, right_line, template):\n",
    "    cutted_frame, triangle = cut_frame(frame, bottom_line, left_line, right_line)\n",
    "    br_frame = extract_br_frame(cutted_frame)\n",
    "    upper_horizontal_estimated = get_upper_horizontal_line_first_estimate(br_frame, triangle)\n",
    "    bottom_rigth_point_pin = template_matching(cutted_frame, template, upper_horizontal_estimated, left_line, right_line)\n",
    "    \n",
    "    upper_line = correct_inclination(bottom_rigth_point_pin, bottom_line, frame)# TO CHANGE\n",
    "    return upper_line"
   ]
  },
  {
   "cell_type": "markdown",
   "id": "5c6ed568",
   "metadata": {},
   "source": [
    "Generate video"
   ]
  },
  {
   "cell_type": "code",
   "execution_count": 21,
   "id": "e6b3919b",
   "metadata": {},
   "outputs": [
    {
     "name": "stdout",
     "output_type": "stream",
     "text": [
      "227\n",
      "Stopped at row 443 with 0.78% non-black pixels\n",
      "Stopped at row 443 with 0.78% non-black pixels\n",
      "Stopped at row 443 with 0.78% non-black pixels\n",
      "Stopped at row 443 with 1.67% non-black pixels\n",
      "Stopped at row 441 with 1.15% non-black pixels\n",
      "Stopped at row 439 with 1.15% non-black pixels\n",
      "Stopped at row 437 with 1.15% non-black pixels\n",
      "Stopped at row 435 with 1.15% non-black pixels\n",
      "Stopped at row 437 with 1.82% non-black pixels\n",
      "Stopped at row 435 with 1.56% non-black pixels\n",
      "Stopped at row 433 with 1.51% non-black pixels\n",
      "Stopped at row 431 with 1.56% non-black pixels\n",
      "Stopped at row 431 with 1.72% non-black pixels\n",
      "Stopped at row 429 with 0.99% non-black pixels\n",
      "Stopped at row 427 with 0.68% non-black pixels\n",
      "Stopped at row 425 with 0.94% non-black pixels\n",
      "Stopped at row 425 with 1.61% non-black pixels\n",
      "Stopped at row 423 with 1.46% non-black pixels\n",
      "Stopped at row 421 with 1.72% non-black pixels\n",
      "Stopped at row 419 with 1.56% non-black pixels\n",
      "Stopped at row 417 with 1.20% non-black pixels\n",
      "Stopped at row 415 with 0.89% non-black pixels\n",
      "Stopped at row 413 with 1.15% non-black pixels\n",
      "Stopped at row 411 with 1.35% non-black pixels\n",
      "Stopped at row 409 with 0.83% non-black pixels\n",
      "Stopped at row 407 with 0.83% non-black pixels\n",
      "Stopped at row 405 with 1.09% non-black pixels\n",
      "Stopped at row 403 with 1.30% non-black pixels\n",
      "Stopped at row 403 with 1.88% non-black pixels\n",
      "Stopped at row 399 with 1.35% non-black pixels\n",
      "Stopped at row 398 with 1.98% non-black pixels\n",
      "Stopped at row 395 with 1.35% non-black pixels\n",
      "Stopped at row 395 with 1.88% non-black pixels\n",
      "Stopped at row 394 with 1.88% non-black pixels\n",
      "Stopped at row 391 with 1.46% non-black pixels\n",
      "Stopped at row 387 with 1.35% non-black pixels\n",
      "Stopped at row 387 with 1.72% non-black pixels\n",
      "Stopped at row 385 with 1.82% non-black pixels\n",
      "Stopped at row 383 with 1.77% non-black pixels\n",
      "Stopped at row 380 with 1.93% non-black pixels\n",
      "Stopped at row 379 with 1.20% non-black pixels\n",
      "Stopped at row 379 with 1.72% non-black pixels\n",
      "Stopped at row 375 with 1.30% non-black pixels\n",
      "Stopped at row 373 with 1.41% non-black pixels\n",
      "Stopped at row 373 with 1.35% non-black pixels\n",
      "Stopped at row 372 with 1.98% non-black pixels\n",
      "Stopped at row 370 with 1.82% non-black pixels\n",
      "Stopped at row 367 with 1.67% non-black pixels\n",
      "Stopped at row 367 with 1.77% non-black pixels\n",
      "Stopped at row 366 with 1.88% non-black pixels\n",
      "Stopped at row 363 with 0.83% non-black pixels\n",
      "Stopped at row 362 with 1.98% non-black pixels\n",
      "Stopped at row 362 with 1.98% non-black pixels\n",
      "Stopped at row 360 with 1.72% non-black pixels\n",
      "Stopped at row 359 with 1.77% non-black pixels\n",
      "Stopped at row 357 with 1.41% non-black pixels\n",
      "Stopped at row 358 with 1.77% non-black pixels\n",
      "Stopped at row 358 with 1.93% non-black pixels\n",
      "Stopped at row 359 with 1.93% non-black pixels\n",
      "Stopped at row 357 with 1.82% non-black pixels\n",
      "Stopped at row 357 with 1.67% non-black pixels\n",
      "Stopped at row 357 with 1.67% non-black pixels\n",
      "Stopped at row 357 with 1.82% non-black pixels\n",
      "Stopped at row 357 with 1.72% non-black pixels\n",
      "Stopped at row 358 with 1.98% non-black pixels\n",
      "Stopped at row 359 with 1.61% non-black pixels\n",
      "Stopped at row 361 with 1.77% non-black pixels\n",
      "Stopped at row 361 with 1.77% non-black pixels\n",
      "Stopped at row 363 with 1.67% non-black pixels\n",
      "Stopped at row 363 with 1.72% non-black pixels\n",
      "Stopped at row 367 with 1.51% non-black pixels\n",
      "Stopped at row 368 with 1.98% non-black pixels\n",
      "Stopped at row 369 with 1.72% non-black pixels\n",
      "Stopped at row 373 with 1.98% non-black pixels\n",
      "Stopped at row 376 with 1.56% non-black pixels\n",
      "Stopped at row 378 with 1.67% non-black pixels\n",
      "Stopped at row 381 with 1.93% non-black pixels\n",
      "Stopped at row 384 with 1.98% non-black pixels\n",
      "Stopped at row 388 with 1.61% non-black pixels\n",
      "Stopped at row 391 with 1.88% non-black pixels\n",
      "Stopped at row 391 with 1.93% non-black pixels\n",
      "Stopped at row 389 with 1.25% non-black pixels\n",
      "Stopped at row 395 with 1.72% non-black pixels\n",
      "Stopped at row 399 with 1.67% non-black pixels\n",
      "Stopped at row 405 with 1.51% non-black pixels\n",
      "Stopped at row 409 with 1.82% non-black pixels\n",
      "Stopped at row 413 with 1.25% non-black pixels\n",
      "Stopped at row 415 with 1.41% non-black pixels\n",
      "Stopped at row 419 with 1.51% non-black pixels\n",
      "Stopped at row 421 with 1.04% non-black pixels\n",
      "Stopped at row 423 with 1.25% non-black pixels\n",
      "Stopped at row 425 with 1.35% non-black pixels\n",
      "Stopped at row 429 with 1.82% non-black pixels\n",
      "Stopped at row 431 with 1.72% non-black pixels\n",
      "Stopped at row 434 with 1.61% non-black pixels\n",
      "Stopped at row 435 with 1.98% non-black pixels\n",
      "Stopped at row 437 with 1.88% non-black pixels\n",
      "Stopped at row 437 with 1.72% non-black pixels\n",
      "Stopped at row 439 with 1.61% non-black pixels\n",
      "Stopped at row 441 with 1.72% non-black pixels\n",
      "Stopped at row 443 with 1.72% non-black pixels\n",
      "Stopped at row 443 with 1.93% non-black pixels\n",
      "Stopped at row 441 with 1.82% non-black pixels\n",
      "Stopped at row 439 with 1.93% non-black pixels\n",
      "Stopped at row 445 with 1.88% non-black pixels\n",
      "Stopped at row 445 with 1.56% non-black pixels\n",
      "Stopped at row 447 with 1.41% non-black pixels\n",
      "Stopped at row 447 with 1.88% non-black pixels\n",
      "Stopped at row 449 with 1.72% non-black pixels\n",
      "Stopped at row 447 with 1.72% non-black pixels\n",
      "Stopped at row 449 with 1.77% non-black pixels\n",
      "Stopped at row 443 with 1.82% non-black pixels\n",
      "Stopped at row 451 with 1.77% non-black pixels\n",
      "Stopped at row 451 with 1.35% non-black pixels\n",
      "Stopped at row 453 with 1.61% non-black pixels\n",
      "Stopped at row 447 with 1.67% non-black pixels\n",
      "Stopped at row 449 with 1.04% non-black pixels\n",
      "Stopped at row 449 with 1.09% non-black pixels\n",
      "Stopped at row 449 with 0.94% non-black pixels\n",
      "Stopped at row 449 with 1.72% non-black pixels\n",
      "Stopped at row 451 with 1.67% non-black pixels\n",
      "Stopped at row 451 with 1.61% non-black pixels\n",
      "Stopped at row 451 with 1.51% non-black pixels\n",
      "Stopped at row 451 with 1.93% non-black pixels\n",
      "Stopped at row 453 with 1.51% non-black pixels\n",
      "Stopped at row 453 with 1.67% non-black pixels\n",
      "Stopped at row 451 with 1.93% non-black pixels\n",
      "Stopped at row 451 with 1.82% non-black pixels\n",
      "Stopped at row 452 with 1.88% non-black pixels\n",
      "Stopped at row 451 with 1.35% non-black pixels\n",
      "Stopped at row 453 with 1.88% non-black pixels\n",
      "Stopped at row 452 with 1.88% non-black pixels\n",
      "Stopped at row 453 with 1.41% non-black pixels\n",
      "Stopped at row 453 with 0.99% non-black pixels\n",
      "Stopped at row 454 with 1.82% non-black pixels\n",
      "Stopped at row 454 with 1.72% non-black pixels\n",
      "Stopped at row 455 with 1.93% non-black pixels\n",
      "Stopped at row 454 with 1.46% non-black pixels\n",
      "Stopped at row 454 with 1.56% non-black pixels\n",
      "Stopped at row 455 with 1.98% non-black pixels\n",
      "Stopped at row 455 with 1.35% non-black pixels\n",
      "Stopped at row 455 with 1.15% non-black pixels\n",
      "Stopped at row 463 with 1.88% non-black pixels\n",
      "Stopped at row 457 with 0.99% non-black pixels\n",
      "Stopped at row 459 with 1.30% non-black pixels\n",
      "Stopped at row 459 with 1.51% non-black pixels\n",
      "Stopped at row 465 with 1.67% non-black pixels\n",
      "Stopped at row 467 with 1.77% non-black pixels\n",
      "Stopped at row 473 with 1.98% non-black pixels\n",
      "Stopped at row 473 with 1.98% non-black pixels\n",
      "Stopped at row 475 with 1.88% non-black pixels\n",
      "Stopped at row 475 with 1.72% non-black pixels\n",
      "Stopped at row 473 with 1.51% non-black pixels\n",
      "Stopped at row 473 with 1.77% non-black pixels\n",
      "Stopped at row 483 with 1.72% non-black pixels\n",
      "Stopped at row 485 with 1.77% non-black pixels\n",
      "Stopped at row 493 with 1.98% non-black pixels\n",
      "Stopped at row 479 with 1.67% non-black pixels\n",
      "Stopped at row 471 with 1.56% non-black pixels\n",
      "Stopped at row 471 with 1.20% non-black pixels\n",
      "Stopped at row 477 with 1.93% non-black pixels\n",
      "Stopped at row 490 with 1.88% non-black pixels\n",
      "Stopped at row 493 with 1.41% non-black pixels\n",
      "Stopped at row 491 with 1.67% non-black pixels\n",
      "Stopped at row 477 with 1.04% non-black pixels\n",
      "Stopped at row 479 with 1.77% non-black pixels\n",
      "Stopped at row 493 with 1.88% non-black pixels\n",
      "Stopped at row 503 with 1.35% non-black pixels\n",
      "Stopped at row 505 with 1.46% non-black pixels\n",
      "Stopped at row 507 with 1.82% non-black pixels\n",
      "Stopped at row 488 with 1.93% non-black pixels\n",
      "Stopped at row 479 with 1.93% non-black pixels\n",
      "Stopped at row 489 with 1.98% non-black pixels\n",
      "Stopped at row 509 with 1.67% non-black pixels\n",
      "Stopped at row 511 with 1.93% non-black pixels\n",
      "Stopped at row 513 with 1.82% non-black pixels\n",
      "Stopped at row 513 with 1.61% non-black pixels\n",
      "Stopped at row 513 with 1.30% non-black pixels\n",
      "Stopped at row 513 with 1.98% non-black pixels\n",
      "Stopped at row 513 with 1.77% non-black pixels\n",
      "Stopped at row 512 with 1.67% non-black pixels\n",
      "Stopped at row 511 with 1.67% non-black pixels\n",
      "Stopped at row 511 with 1.77% non-black pixels\n",
      "Stopped at row 510 with 1.82% non-black pixels\n",
      "Stopped at row 509 with 1.56% non-black pixels\n",
      "Stopped at row 509 with 0.94% non-black pixels\n",
      "Stopped at row 511 with 1.15% non-black pixels\n",
      "Stopped at row 511 with 1.46% non-black pixels\n",
      "Stopped at row 509 with 1.04% non-black pixels\n",
      "Stopped at row 510 with 1.56% non-black pixels\n",
      "Stopped at row 510 with 1.77% non-black pixels\n",
      "Stopped at row 509 with 1.67% non-black pixels\n",
      "Stopped at row 510 with 1.20% non-black pixels\n",
      "Stopped at row 511 with 1.88% non-black pixels\n",
      "Stopped at row 526 with 1.93% non-black pixels\n",
      "Stopped at row 513 with 1.04% non-black pixels\n",
      "Stopped at row 527 with 1.77% non-black pixels\n",
      "Stopped at row 527 with 1.56% non-black pixels\n",
      "Stopped at row 510 with 0.83% non-black pixels\n",
      "Stopped at row 511 with 1.41% non-black pixels\n",
      "Stopped at row 513 with 1.67% non-black pixels\n",
      "Stopped at row 513 with 1.56% non-black pixels\n",
      "Stopped at row 513 with 1.88% non-black pixels\n",
      "Stopped at row 512 with 1.82% non-black pixels\n",
      "Stopped at row 511 with 0.16% non-black pixels\n",
      "Stopped at row 513 with 1.30% non-black pixels\n",
      "Stopped at row 509 with 1.72% non-black pixels\n",
      "Stopped at row 511 with 1.98% non-black pixels\n",
      "Stopped at row 515 with 1.35% non-black pixels\n",
      "Stopped at row 515 with 1.04% non-black pixels\n",
      "Stopped at row 515 with 1.88% non-black pixels\n",
      "Stopped at row 514 with 1.56% non-black pixels\n",
      "Stopped at row 515 with 1.41% non-black pixels\n",
      "Stopped at row 515 with 1.67% non-black pixels\n",
      "Stopped at row 515 with 0.94% non-black pixels\n",
      "Stopped at row 515 with 1.67% non-black pixels\n",
      "Stopped at row 515 with 1.15% non-black pixels\n",
      "Stopped at row 516 with 1.82% non-black pixels\n",
      "Stopped at row 518 with 1.56% non-black pixels\n",
      "Stopped at row 525 with 0.21% non-black pixels\n",
      "Stopped at row 525 with 0.73% non-black pixels\n",
      "Stopped at row 525 with 0.31% non-black pixels\n",
      "Stopped at row 525 with 0.83% non-black pixels\n",
      "Stopped at row 527 with 1.46% non-black pixels\n",
      "Stopped at row 527 with 0.83% non-black pixels\n",
      "Stopped at row 529 with 1.88% non-black pixels\n",
      "Stopped at row 535 with 1.56% non-black pixels\n",
      "Adjusted video saved to C:\\Users\\miche\\OneDrive\\Documenti\\GitHub\\bowling-analysis\\data\\recording_3\\All_Lines_video_non_processed.mp4\n"
     ]
    }
   ],
   "source": [
    "# Reset the video to the beginning\n",
    "cap.set(cv2.CAP_PROP_POS_FRAMES, 0)\n",
    "\n",
    "# Define the codec and create a VideoWriter object to save the modified frames\n",
    "output_path = project_root / \"data\" / f\"recording_{video_number}\" / \"All_Lines_video_non_processed.mp4\"\n",
    "fourcc = cv2.VideoWriter_fourcc(*'mp4v')  # Use 'mp4v' codec for MP4 format\n",
    "fps = int(cap.get(cv2.CAP_PROP_FPS))\n",
    "frame_width = int(cap.get(cv2.CAP_PROP_FRAME_WIDTH))\n",
    "frame_height = int(cap.get(cv2.CAP_PROP_FRAME_HEIGHT))\n",
    "out = cv2.VideoWriter(str(output_path), fourcc, fps, (frame_width, frame_height))\n",
    "\n",
    "# Loop through each frame in the video\n",
    "frame_index = 0\n",
    "lines_array = []\n",
    "intersection_points = []\n",
    "print(len(df))\n",
    "while frame_index < len(df):\n",
    "    ret, video_frame = cap.read()\n",
    "    if not ret:\n",
    "        print(\"End of video or failed to read the frame at iteration\", frame_index)\n",
    "        break\n",
    "    \n",
    "    frame_data = df.iloc[frame_index]\n",
    "    # --- Extract line endpoints ---\n",
    "    bottom_line = [frame_data['hx1'], frame_data['hy1'], frame_data['hx2'], frame_data['hy2']]\n",
    "    left_line = [frame_data['lx1'], frame_data['ly1'], frame_data['lx2'], frame_data['ly2']]\n",
    "    rigth_line = [frame_data['rx1'], frame_data['ry1'], frame_data['rx2'], frame_data['ry2']]\n",
    "\n",
    "    # Compute the three lines in the frame\n",
    "    upper_line = get_upper_line(video_frame, bottom_line, left_line, rigth_line, template) \n",
    "    all_lines = [bottom_line, left_line, rigth_line, upper_line]\n",
    "    intersection_points.append([get_intersection(bottom_line, left_line), get_intersection(bottom_line, rigth_line), get_intersection(upper_line, left_line), get_intersection(upper_line, rigth_line)])\n",
    "\n",
    "    if all_lines is None:\n",
    "        print(\"No lines found in frame\", frame_index)\n",
    "        modified_frame = video_frame\n",
    "        \n",
    "    else:\n",
    "        # draw the lines on the frame   \n",
    "        modified_frame = write_lines_on_frame(video_frame, all_lines)\n",
    "        # add lines to the output array\n",
    "        lines_array.append(all_lines)\n",
    "\n",
    "    # Write the modified frame to the output video\n",
    "    out.write(modified_frame)\n",
    "\n",
    "    # Increment the frame index\n",
    "    frame_index += 1\n",
    "\n",
    "# Release the video capture and writer objects\n",
    "# cap.release()\n",
    "out.release()\n",
    "\n",
    "print(f\"Adjusted video saved to {output_path}\")"
   ]
  },
  {
   "cell_type": "markdown",
   "id": "e2d6ad1d",
   "metadata": {},
   "source": [
    "Save the 4 points in a CSV"
   ]
  },
  {
   "cell_type": "code",
   "execution_count": 22,
   "id": "c7205a48",
   "metadata": {},
   "outputs": [
    {
     "name": "stdout",
     "output_type": "stream",
     "text": [
      "Intersection points saved to C:\\Users\\miche\\OneDrive\\Documenti\\GitHub\\bowling-analysis\\data\\auxiliary_data\\lane_points\\lane_points_raw_3.csv\n"
     ]
    }
   ],
   "source": [
    "# Create a DataFrame from the intersection_points and frame indices\n",
    "columns = ['Frame', 'bottom_left_x', 'bottom_left_y', 'bottom_right_x', 'bottom_right_y', 'up_left_x', 'up_left_y', 'up_right_x', 'up_right_y']\n",
    "data = []\n",
    "\n",
    "for frame_idx, points in enumerate(intersection_points):\n",
    "    if points is not None and len(points) == 4:\n",
    "        bottom_left, bottom_right, up_left, up_right = points\n",
    "        data.append([frame_idx, bottom_left[0], bottom_left[1], bottom_right[0], bottom_right[1], up_left[0], up_left[1], up_right[0], up_right[1]])\n",
    "\n",
    "# Create the DataFrame\n",
    "intersection_df = pd.DataFrame(data, columns=columns)\n",
    "\n",
    "# Display the DataFrame\n",
    "# print(intersection_df)\n",
    "\n",
    "output_path = project_root / \"data\" / \"auxiliary_data\" / \"lane_points\" / f\"lane_points_raw_{video_number}.csv\"\n",
    "intersection_df.to_csv(output_path, index=False)\n",
    "print(f\"Intersection points saved to {output_path}\")"
   ]
  }
 ],
 "metadata": {
  "kernelspec": {
   "display_name": "Python 3",
   "language": "python",
   "name": "python3"
  },
  "language_info": {
   "codemirror_mode": {
    "name": "ipython",
    "version": 3
   },
   "file_extension": ".py",
   "mimetype": "text/x-python",
   "name": "python",
   "nbconvert_exporter": "python",
   "pygments_lexer": "ipython3",
   "version": "3.11.9"
  }
 },
 "nbformat": 4,
 "nbformat_minor": 5
}
