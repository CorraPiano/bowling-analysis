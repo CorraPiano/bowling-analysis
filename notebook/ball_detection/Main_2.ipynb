{
 "cells": [
  {
   "cell_type": "markdown",
   "metadata": {},
   "source": [
    "# Main code to run the **Detection**"
   ]
  },
  {
   "cell_type": "code",
   "execution_count": 1,
   "metadata": {},
   "outputs": [],
   "source": [
    "from pathlib import Path"
   ]
  },
  {
   "cell_type": "markdown",
   "metadata": {},
   "source": [
    "## Creation of the Circle_positions file\n",
    "\n",
    "If not present the file */data/auxiliary_data/Circle_positions.csv* run the Detection code in order to produce it"
   ]
  },
  {
   "cell_type": "markdown",
   "metadata": {},
   "source": [
    "### Detection"
   ]
  },
  {
   "cell_type": "code",
   "execution_count": null,
   "metadata": {},
   "outputs": [],
   "source": [
    "# %load ~/projects/IACV_project/bowling-analysis/notebook/ball_detection/Detection_3.py"
   ]
  },
  {
   "cell_type": "code",
   "execution_count": 2,
   "metadata": {},
   "outputs": [
    {
     "name": "stdout",
     "output_type": "stream",
     "text": [
      "End of video or cannot read frame.\n",
      "Circle data saved to /home/davic/projects/IACV_project/bowling-analysis/notebook/ball_detection/intermediate_data/Circle_positions_raw_2.csv \n",
      "Video saved to /home/davic/projects/IACV_project/bowling-analysis/data/recording_2/Ball_detected_raw_2.mp4\n"
     ]
    }
   ],
   "source": [
    "VIDEO_NUM = \"2\"\n",
    "PROJECT_ROOT = Path().resolve().parent.parent\n",
    "INPUT_VIDEO_PATH = str(PROJECT_ROOT / \"data\" / f\"recording_{VIDEO_NUM}\" / f\"Recording_{VIDEO_NUM}.mp4\")\n",
    "INPUT_CSV_PATH = str(PROJECT_ROOT / \"data\" / \"auxiliary_data\" / \"lane_points\" / f\"Lane_points_{VIDEO_NUM}.csv\")\n",
    "OUTPUT_VIDEO_PATH = str(PROJECT_ROOT / \"data\" / f\"recording_{VIDEO_NUM}\" / f\"Ball_detected_raw_{VIDEO_NUM}.mp4\")\n",
    "OUTPUT_CSV_PATH = str(PROJECT_ROOT / \"notebook\" / \"ball_detection\" / \"intermediate_data\" / f\"Circle_positions_raw_{VIDEO_NUM}.csv\")\n",
    "\n",
    "%run -i ~/projects/IACV_project/bowling-analysis/notebook/ball_detection/Detection_3.py"
   ]
  },
  {
   "cell_type": "markdown",
   "metadata": {},
   "source": [
    "### Post-processing coordinates and radius"
   ]
  },
  {
   "cell_type": "code",
   "execution_count": 5,
   "metadata": {},
   "outputs": [
    {
     "name": "stdout",
     "output_type": "stream",
     "text": [
      "New circle positions saved to /home/davic/projects/IACV_project/bowling-analysis/data/auxiliary_data/circle_positions/Circle_positions_2.0_clean.csv.\n",
      "New radius values saved to /home/davic/projects/IACV_project/bowling-analysis/data/auxiliary_data/circle_positions/Circle_positions_2.0_clean_radius.csv.\n"
     ]
    }
   ],
   "source": [
    "PROJECT_ROOT = Path().resolve().parent.parent\n",
    "INPUT_CSV_PATH = str(PROJECT_ROOT / \"data\" / \"auxiliary_data\" / \"circle_positions\" / \"Circle_positions_2.0.csv\")\n",
    "OUTPUT_CSV_PATH = str(PROJECT_ROOT / \"data\" / \"auxiliary_data\" / \"circle_positions\" / \"Circle_positions_2.0_clean.csv\")\n",
    "CSV_POSITIONS_FILE_PATH_NEW = str(PROJECT_ROOT / \"data\" / \"auxiliary_data\" / \"circle_positions\" / \"Circle_positions_2.0_clean_radius.csv\")\n",
    "\n",
    "%run -i ~/projects/IACV_project/bowling-analysis/notebook/ball_detection/Post-processing.py"
   ]
  },
  {
   "cell_type": "markdown",
   "metadata": {},
   "source": [
    "After all these processes I want to mantain only the csv file with the final coordinates and radius of the ball"
   ]
  },
  {
   "cell_type": "code",
   "execution_count": null,
   "metadata": {},
   "outputs": [],
   "source": [
    "# Delete auxiliary data no more useful\n",
    "path_to_delete_1 = Path(INPUT_CSV_PATH)\n",
    "path_to_delete_2 = Path(OUTPUT_CSV_PATH)\n",
    "path_to_delete_1.unlink()\n",
    "path_to_delete_2.unlink()\n",
    "\n",
    "# What about Average_circle_position_2?"
   ]
  }
 ],
 "metadata": {
  "kernelspec": {
   "display_name": ".venv",
   "language": "python",
   "name": "python3"
  },
  "language_info": {
   "codemirror_mode": {
    "name": "ipython",
    "version": 3
   },
   "file_extension": ".py",
   "mimetype": "text/x-python",
   "name": "python",
   "nbconvert_exporter": "python",
   "pygments_lexer": "ipython3",
   "version": "3.12.3"
  }
 },
 "nbformat": 4,
 "nbformat_minor": 2
}
