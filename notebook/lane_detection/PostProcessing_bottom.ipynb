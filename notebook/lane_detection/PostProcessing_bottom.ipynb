{
 "cells": [
  {
   "cell_type": "markdown",
   "metadata": {},
   "source": [
    "Postprocessing bottom line"
   ]
  },
  {
   "cell_type": "code",
   "execution_count": 87,
   "metadata": {},
   "outputs": [],
   "source": [
    "import cv2\n",
    "from pathlib import Path\n",
    "import numpy as np\n",
    "from matplotlib import pyplot as plt\n",
    "import math\n",
    "import pandas as pd\n",
    "from scipy.signal import savgol_filter\n",
    "from scipy.signal import medfilt\n"
   ]
  },
  {
   "cell_type": "markdown",
   "metadata": {},
   "source": [
    "Import video"
   ]
  },
  {
   "cell_type": "code",
   "execution_count": 88,
   "metadata": {},
   "outputs": [
    {
     "name": "stdout",
     "output_type": "stream",
     "text": [
      "Number of frames in the video: 119\n"
     ]
    }
   ],
   "source": [
    "video_number = \"8\"\n",
    "# Define the relative path to the video file\n",
    "notebook_dir = Path().resolve()\n",
    "project_root = notebook_dir.parent.parent\n",
    "video_path = project_root / \"data\" / f\"recording_{video_number}\" / f\"Recording_{video_number}.mp4\" \n",
    "video_path = str(video_path)\n",
    "\n",
    "# Load the video\n",
    "cap = cv2.VideoCapture(video_path)\n",
    "\n",
    "frame_count = int(cap.get(cv2.CAP_PROP_FRAME_COUNT))\n",
    "print(f\"Number of frames in the video: {frame_count}\")\n"
   ]
  },
  {
   "cell_type": "markdown",
   "metadata": {},
   "source": [
    "Get data (horizontal_lines)"
   ]
  },
  {
   "cell_type": "code",
   "execution_count": 89,
   "metadata": {},
   "outputs": [
    {
     "name": "stdout",
     "output_type": "stream",
     "text": [
      "     rho     theta\n",
      "0  980.0  1.570796\n",
      "1  980.0  1.570796\n",
      "2  980.0  1.570796\n",
      "3  980.0  1.570796\n",
      "4  980.0  1.570796\n"
     ]
    }
   ],
   "source": [
    "# Define the path to the CSV file\n",
    "input_data_path = project_root / \"notebook\"/ \"lane_detection\" / \"intermediate_data\" / f\"horizontal_lines_{video_number}_raw.csv\"\n",
    "\n",
    "# Load the CSV file into a DataFrame\n",
    "horizontal_lines = pd.read_csv(input_data_path)\n",
    "\n",
    "print(horizontal_lines.head())"
   ]
  },
  {
   "cell_type": "markdown",
   "metadata": {},
   "source": [
    "Get video movement"
   ]
  },
  {
   "cell_type": "code",
   "execution_count": 90,
   "metadata": {},
   "outputs": [
    {
     "name": "stdout",
     "output_type": "stream",
     "text": [
      "Average movement video 8: 0.96\n"
     ]
    }
   ],
   "source": [
    "''' Import data of the movement from Camera_Motion_Test.ipynb '''\n",
    "avg_movement_list = [0.57, 3.86, 5.18, 0.10, 0.16, 3.26, 0.52, 0.96]\n",
    "avg_movement = avg_movement_list[int(video_number) - 1]\n",
    "print(f\"Average movement video {int(video_number)}: {avg_movement}\")"
   ]
  },
  {
   "cell_type": "markdown",
   "metadata": {},
   "source": [
    "Funzioni"
   ]
  },
  {
   "cell_type": "markdown",
   "metadata": {},
   "source": [
    "Disegna la linea sul frame"
   ]
  },
  {
   "cell_type": "code",
   "execution_count": 91,
   "metadata": {},
   "outputs": [],
   "source": [
    "'''Disegna la linea sul singolo frame'''\n",
    "def write_line_on_frame(frame, line):\n",
    "    # Create a copy of the original frame to draw the first line\n",
    "    modified_frame = np.copy(frame)\n",
    "\n",
    "    # Extract the first line's rho and theta\n",
    "    if line:\n",
    "        rho, theta = line\n",
    "        # Calculate the endpoints of the line\n",
    "        a = np.cos(theta)\n",
    "        b = np.sin(theta)\n",
    "        x0 = a * rho\n",
    "        y0 = b * rho\n",
    "        x1 = int(x0 + 1000 * (-b))\n",
    "        y1 = int(y0 + 1000 * (a))\n",
    "        x2 = int(x0 - 1000 * (-b))\n",
    "        y2 = int(y0 - 1000 * (a))\n",
    "\n",
    "        # Draw the first line on the frame\n",
    "        cv2.line(modified_frame, (x1, y1), (x2, y2), (0, 255, 0), 2)\n",
    "\n",
    "    # return the modified frame\n",
    "    return modified_frame"
   ]
  },
  {
   "cell_type": "markdown",
   "metadata": {},
   "source": [
    "Plotta la traiettoria dei punti "
   ]
  },
  {
   "cell_type": "code",
   "execution_count": 92,
   "metadata": {},
   "outputs": [],
   "source": [
    "def plot_trajectory(df):\n",
    "    plt.figure(figsize=(8,6))\n",
    "    plt.plot(df['X'], -df['Y'], 'o-', label='Cleaned Trajectory')\n",
    "    plt.xlabel('X Coordinate')\n",
    "    plt.ylabel('Y Coordinate')\n",
    "    plt.title('Cleaned Trajectory')\n",
    "    plt.legend()\n",
    "    plt.show()"
   ]
  },
  {
   "cell_type": "code",
   "execution_count": 93,
   "metadata": {},
   "outputs": [],
   "source": [
    "def plot_coordinates(df, title=\"Coordinates Plot\", xlabel=\"X\", ylabel=\"Y\", save_path=None):\n",
    "    # compute the mean and std of the X and Y coordinates\n",
    "    mean_x = df['X'].mean()\n",
    "    std_x = df['X'].std()\n",
    "    mean_y = df['Y'].mean()\n",
    "    std_y = df['Y'].std()\n",
    "    # plot the values of x and y with the mean and std\n",
    "    plt.figure(figsize=(10, 5))\n",
    "    plt.subplot(1, 2, 1)\n",
    "    plt.plot(df['X'], label='X')\n",
    "    plt.axhline(mean_x, color='r', linestyle='--', label='Mean')\n",
    "    plt.axhline(mean_x + std_x, color='g', linestyle='--', label='Mean + Std')\n",
    "    plt.axhline(mean_x - std_x, color='g', linestyle='--', label='Mean - Std')\n",
    "    plt.title(title)\n",
    "    plt.xlabel('Frame')\n",
    "    plt.ylabel('X')\n",
    "    plt.legend()\n",
    "    plt.grid()\n",
    "    plt.subplot(1, 2, 2)\n",
    "    plt.plot(df['Y'], label='Y')\n",
    "    plt.axhline(mean_y, color='r', linestyle='--', label='Mean')\n",
    "    plt.axhline(mean_y + std_y, color='g', linestyle='--', label='Mean + Std')\n",
    "    plt.axhline(mean_y - std_y, color='g', linestyle='--', label='Mean - Std')\n",
    "    plt.title(title)\n",
    "    plt.xlabel('Frame')\n",
    "    plt.ylabel('Y')\n",
    "    plt.legend()\n",
    "    plt.grid()\n",
    "    plt.tight_layout()\n",
    "    plt.show()"
   ]
  },
  {
   "cell_type": "markdown",
   "metadata": {},
   "source": [
    "Rimuove gli outliers"
   ]
  },
  {
   "cell_type": "code",
   "execution_count": 94,
   "metadata": {},
   "outputs": [],
   "source": [
    "def remove_outliers(df, threshold=1):\n",
    "    # Ensure 'X' and 'Y' are numeric\n",
    "    df[['X', 'Y']] = df[['X', 'Y']].apply(pd.to_numeric, errors='coerce')\n",
    "    \n",
    "    # Compute the distance between consecutive points\n",
    "    dx = df['X'].diff()\n",
    "    dy = df['Y'].diff()\n",
    "    distances = np.sqrt(dx**2 + dy**2)\n",
    "    # Define outlier threshold\n",
    "    median_dist = distances.mean()\n",
    "    std_dist = distances.std()\n",
    "    print(df)\n",
    "    print('Median distance:', median_dist)\n",
    "    print('Standard deviation of distances:', std_dist)\n",
    "    outlier_threshold =  threshold * std_dist * 2\n",
    "\n",
    "    mask = []\n",
    "    \n",
    "    for i in range(0, len(distances)-1):\n",
    "\n",
    "        # Remove points that are  (0, 0)  (the ones that I set when it doesn't detect any line)\n",
    "        if df['X'].iloc[i] == 0 and df['Y'].iloc[i] == 0:\n",
    "            mask.append(i)\n",
    "            prev_index = i - 1\n",
    "            while prev_index in mask and prev_index >= 0:\n",
    "                prev_index -= 1\n",
    "            if prev_index < 0:\n",
    "                print(\"No valid previous index found. Breaking.\")\n",
    "                break\n",
    "            distances[i+1] = np.sqrt((df['X'].iloc[i+1] - df['X'].iloc[prev_index])**2 + (df['Y'].iloc[i+1] - df['Y'].iloc[prev_index])**2)\n",
    "            continue\n",
    "        if distances[i] > outlier_threshold:\n",
    "            # Create a mask to identify the outlier point\n",
    "            mask.append(i)\n",
    "            # convert the next point distance in the distance with respect to the previous point\n",
    "            if i < len(distances) - 1 and i > 0:\n",
    "                # select the previous point as the last point evaluated non present in the mask\n",
    "                prev_index = i - 1\n",
    "                while prev_index in mask and prev_index >= 0:\n",
    "                    prev_index -= 1\n",
    "                if prev_index < 0:\n",
    "                    print(\"No valid previous index found. Breaking.\")\n",
    "                    break\n",
    "                distances[i+1] = np.sqrt((df['X'].iloc[i+1] - df['X'].iloc[prev_index])**2 + (df['Y'].iloc[i+1] - df['Y'].iloc[prev_index])**2)\n",
    "                # print('New distance:', distances[i+1], 'for point:', i+1, 'with respect to point:', prev_index)\n",
    "   # Remove the outlier points from the DataFrame\n",
    "    df = df.drop(mask)\n",
    "    print('Outliers removed:', len(mask))\n",
    "\n",
    "    # compute means and standard deviations of points\n",
    "    mean_x = df['X'].mean()\n",
    "    mean_y = df['Y'].mean()\n",
    "    std_x = df['X'].std()\n",
    "    std_y = df['Y'].std()   \n",
    "\n",
    "    threshold_std = 1\n",
    "\n",
    "    # Remove points too far from the mean\n",
    "    df = df[(df['X'] > mean_x - threshold_std*std_x) & (df['X'] < mean_x + threshold_std*std_x) & (df['Y'] > mean_y - threshold_std*std_y) & (df['Y'] < mean_y + threshold_std*std_y)]\n",
    "    \n",
    "    return df"
   ]
  },
  {
   "cell_type": "code",
   "execution_count": 95,
   "metadata": {},
   "outputs": [],
   "source": [
    "def remove_outliers_iterated(df, threshold_factor=1): \n",
    "    # Ensure 'X' and 'Y' are numeric\n",
    "    df[['X', 'Y']] = df[['X', 'Y']].apply(pd.to_numeric, errors='coerce')\n",
    "\n",
    "    first_iteration = True\n",
    "    exit_threshold = 10000\n",
    "    max_dist = np.inf\n",
    "\n",
    "    # remove the points that are 0,0\n",
    "    df = df[(df['X'] != 0) | (df['Y'] != 0)]\n",
    "\n",
    "    # Compute the distance between consecutive points\n",
    "    dx = df['X'].diff()\n",
    "    dy = df['Y'].diff()\n",
    "\n",
    "    # compute distances\n",
    "    df['distance'] = np.sqrt(dx**2 + dy**2)\n",
    "    \n",
    "    while max_dist > exit_threshold:\n",
    "        # set the threshold to exit the while\n",
    "        if first_iteration:\n",
    "            first_iteration = False\n",
    "            mean_dist = np.mean(df['distance'])\n",
    "            std = np.std(df['distance'])\n",
    "            print('media:', mean_dist, 'std:', std)\n",
    "            if std > mean_dist:\n",
    "                exit_threshold = std\n",
    "            else:\n",
    "                exit_threshold = 2 * mean_dist\n",
    "\n",
    "        # set the threshold for outliers removal\n",
    "        if threshold_factor > 1:\n",
    "            threshold_dist = threshold_factor * np.mean(df['distance'])\n",
    "        else:   \n",
    "            threshold_dist = 1 * np.mean(df['distance'])\n",
    "            \n",
    "        # outliers removal\n",
    "        df = df[(df['distance'] < threshold_dist) & df['distance'].notna()]  # the first value is considered as correct\n",
    "\n",
    "        # Compute the distance between consecutive points\n",
    "        dx = df['X'].diff()\n",
    "        dy = df['Y'].diff()\n",
    "\n",
    "        # compute distances\n",
    "        df['distance'] = np.sqrt(dx**2 + dy**2)\n",
    "\n",
    "        # get the max distance\n",
    "        max_dist = np.max(df['distance'])\n",
    "\n",
    "    return df"
   ]
  },
  {
   "cell_type": "code",
   "execution_count": 96,
   "metadata": {},
   "outputs": [],
   "source": [
    "def remove_outliers_xy(df):\n",
    "    # compute the mean and std of the X and Y coordinates\n",
    "    mean_x = df['X'].mean()\n",
    "    std_x = df['X'].std()\n",
    "    mean_y = df['Y'].mean()\n",
    "    std_y = df['Y'].std()\n",
    "\n",
    "    # set the threshold\n",
    "    threshold_x =  std_x * 2\n",
    "    threshold_y =  std_y * 2\n",
    "    # remove outliers: remove the points that have a distance on each axis with respect to the previous point greater than the threshold\n",
    "    mask = []\n",
    "    for i in range(len(df.index.values)):\n",
    "        if df['X'].iloc[i] == 0 and df['Y'].iloc[i] == 0:\n",
    "            mask.append(df.index.values[i])\n",
    "            continue\n",
    "        # compute the first feasible previous index\n",
    "        prev_index = i - 1\n",
    "        while df.index.values[prev_index] in mask and prev_index >= 0:\n",
    "            prev_index -= 1\n",
    "        if (abs(df['X'].iloc[i] - df['X'].iloc[prev_index]) > threshold_x or abs(df['Y'].iloc[i] - df['Y'].iloc[prev_index]) > threshold_y) and prev_index >= 0:\n",
    "            mask.append(df.index.values[i])\n",
    "    \n",
    "    # Remove the outlier points from the DataFrame\n",
    "    df = df.drop(mask)\n",
    "\n",
    "    return df"
   ]
  },
  {
   "cell_type": "markdown",
   "metadata": {},
   "source": [
    "filtro a media mobile"
   ]
  },
  {
   "cell_type": "code",
   "execution_count": 97,
   "metadata": {},
   "outputs": [],
   "source": [
    "def median_filter(df, kernel_size=3):\n",
    "    \"\"\"\n",
    "    Smooths the X and Y coordinates using a median filter to reduce noise.\n",
    "    \"\"\"\n",
    "    # Apply a median filter to smooth the coordinates (kernel size 5 by default)\n",
    "    df['X'] = medfilt(df['X'], kernel_size=kernel_size)\n",
    "    df['Y'] = medfilt(df['Y'], kernel_size=kernel_size)\n",
    "    \n",
    "    return df"
   ]
  },
  {
   "cell_type": "markdown",
   "metadata": {},
   "source": [
    "Smoothing"
   ]
  },
  {
   "cell_type": "code",
   "execution_count": 98,
   "metadata": {},
   "outputs": [],
   "source": [
    "def Savitzky_Golay_filter(df, window_length=5, polyorder=1):\n",
    "    \"\"\"\n",
    "    Smooths the X and Y coordinates using Savitzky-Golay filter to reduce noise.\n",
    "    \"\"\"\n",
    "    df['X'] = savgol_filter(df['X'], window_length=window_length, polyorder=polyorder)\n",
    "    df['Y'] = savgol_filter(df['Y'], window_length=window_length, polyorder=polyorder)\n",
    "    \n",
    "    # # Round the smoothed coordinates to integers\n",
    "    # df['X'] = df['X'].round().astype(int)\n",
    "    # df['Y'] = df['Y'].round().astype(int)\n",
    "    \n",
    "    return df"
   ]
  },
  {
   "cell_type": "markdown",
   "metadata": {},
   "source": [
    "Interpola i punti per ricavere quelli mancanti (eliminati precedentemente perchè errati)"
   ]
  },
  {
   "cell_type": "code",
   "execution_count": 99,
   "metadata": {},
   "outputs": [],
   "source": [
    "def interpolate_missing_coordinates(df, end_frame, start_frame=0): \n",
    "    \"\"\"\n",
    "    Interpolate the missing coordinates between the frames from start_frame to end_frame.\n",
    "    Ensures a smooth trajectory by interpolating both X and Y coordinates.\n",
    "    \"\"\"\n",
    "    # Create a DataFrame with all frames from start_frame to end_frame\n",
    "    all_frames = pd.DataFrame({'Frame': range(start_frame, end_frame + 1)})\n",
    "    \n",
    "    # Merge with the original dataframe\n",
    "    df_full = pd.merge(all_frames, df, on='Frame', how='left')\n",
    "    \n",
    "    # Interpolate the missing 'X' and 'Y' coordinates (linear interpolation)\n",
    "    df_full['X'] = df_full['X'].interpolate(method='linear')\n",
    "    df_full['Y'] = df_full['Y'].interpolate(method='linear')\n",
    "\n",
    "    # Fill any remaining NaN values using forward and backward filling\n",
    "    df_full['X'] = df_full['X'].bfill().ffill()\n",
    "    df_full['Y'] = df_full['Y'].bfill().ffill()\n",
    "    \n",
    "    # Apply smoothing to ensure a smooth trajectory\n",
    "    df_full = Savitzky_Golay_filter(df_full)\n",
    "    \n",
    "    return df_full"
   ]
  },
  {
   "cell_type": "markdown",
   "metadata": {},
   "source": [
    "Calcola il punto di intersezione di ogni linea con la linea ortogonale che passa per l'origine"
   ]
  },
  {
   "cell_type": "code",
   "execution_count": 100,
   "metadata": {},
   "outputs": [],
   "source": [
    "def get_intersections(horizontal_lines):\n",
    "    # Calcola il punto  per ogni linea\n",
    "    intersection_points = []\n",
    "\n",
    "    for rho, theta in zip(horizontal_lines['rho'], horizontal_lines['theta']):\n",
    "        # Calcola i coefficienti della linea\n",
    "        x = np.cos(theta) * rho\n",
    "        y = np.sin(theta) * rho\n",
    "\n",
    "        # Aggiungi il punto  alla lista\n",
    "        intersection_points.append((x, y))\n",
    "        \n",
    "    return intersection_points"
   ]
  },
  {
   "cell_type": "code",
   "execution_count": 101,
   "metadata": {},
   "outputs": [],
   "source": [
    "def get_intersection_cartesian(horizontal_lines):\n",
    "    intersection_points = []\n",
    "\n",
    "    for x1, y1, x2, y2 in horizontal_lines[['x1', 'y1', 'x2', 'y2']].values:\n",
    "        # Calculate the line coefficients (a, b, c) for ax + by + c = 0\n",
    "        a = y2 - y1\n",
    "        b = x1 - x2\n",
    "        c = x2 * y1 - x1 * y2\n",
    "\n",
    "        # Calculate the intersection with the orthogonal line passing through the origin\n",
    "        # The orthogonal line has equation bx - ay = 0\n",
    "        denominator = a**2 + b**2\n",
    "        if denominator == 0:\n",
    "            intersection_points.append((0, 0))\n",
    "            continue  # Skip degenerate lines\n",
    "\n",
    "        x = -a * c / denominator\n",
    "        y = -b * c / denominator\n",
    "\n",
    "        # Append the intersection point\n",
    "        intersection_points.append((x, y))\n",
    "\n",
    "    return intersection_points"
   ]
  },
  {
   "cell_type": "markdown",
   "metadata": {},
   "source": [
    "Recompute the lines from the points"
   ]
  },
  {
   "cell_type": "code",
   "execution_count": 102,
   "metadata": {},
   "outputs": [],
   "source": [
    "def lines_from_point(points_interpolated):    \n",
    "# Riconversione dei punti in linee (rho e theta)\n",
    "    reconverted_lines = []\n",
    "\n",
    "    for x, y in points_interpolated[['X', 'Y']].values:\n",
    "        rho = np.sqrt(x**2 + y**2)  # Distanza dall'origine\n",
    "        theta = np.arctan2(y, x)    # Angolo rispetto all'asse x\n",
    "        reconverted_lines.append((rho, theta))\n",
    "    return reconverted_lines"
   ]
  },
  {
   "cell_type": "code",
   "execution_count": 103,
   "metadata": {},
   "outputs": [],
   "source": [
    "def lines_from_point_cartesian(points_interpolated, length=1000):    \n",
    "# Generate lines (as two points) orthogonal to the origin-point vector, passing through the point\n",
    "    reconverted_lines = []\n",
    "\n",
    "    for x, y in points_interpolated[['X', 'Y']].values:\n",
    "        # Orthogonal direction to vector (x, y)\n",
    "        dx = -y\n",
    "        dy = x\n",
    "\n",
    "        # Normalize direction vector\n",
    "        norm = (dx**2 + dy**2)**0.5\n",
    "        dx /= norm\n",
    "        dy /= norm\n",
    "\n",
    "        # Generate two points along the orthogonal line centered at (x, y)\n",
    "        x1 = x + dx * length / 2\n",
    "        y1 = y + dy * length / 2\n",
    "        x2 = x - dx * length / 2\n",
    "        y2 = y - dy * length / 2\n",
    "\n",
    "        reconverted_lines.append(((x1, y1), (x2, y2)))\n",
    "\n",
    "    return reconverted_lines"
   ]
  },
  {
   "cell_type": "markdown",
   "metadata": {},
   "source": [
    "Main"
   ]
  },
  {
   "cell_type": "code",
   "execution_count": 104,
   "metadata": {},
   "outputs": [
    {
     "data": {
      "image/png": "[encoded data removed]",
      "text/plain": [
       "<Figure size 1000x500 with 2 Axes>"
      ]
     },
     "metadata": {},
     "output_type": "display_data"
    },
    {
     "name": "stdout",
     "output_type": "stream",
     "text": [
      "     Frame             X      Y\n",
      "0        0  6.000769e-14  980.0\n",
      "1        1  6.000769e-14  980.0\n",
      "2        2  6.000769e-14  980.0\n",
      "3        3  6.000769e-14  980.0\n",
      "4        4  6.000769e-14  980.0\n",
      "..     ...           ...    ...\n",
      "114    114  6.000769e-14  980.0\n",
      "115    115  6.000769e-14  980.0\n",
      "116    116  6.000769e-14  980.0\n",
      "117    117  6.000769e-14  980.0\n",
      "118    118  6.000769e-14  980.0\n",
      "\n",
      "[119 rows x 3 columns]\n",
      "Median distance: 0.1694915254237288\n",
      "Standard deviation of distances: 1.2963135419615373\n",
      "Outliers removed: 1\n"
     ]
    },
    {
     "data": {
      "image/png": "[encoded data removed]",
      "text/plain": [
       "<Figure size 1000x500 with 2 Axes>"
      ]
     },
     "metadata": {},
     "output_type": "display_data"
    }
   ],
   "source": [
    "# get the intersection points\n",
    "intersection_points = get_intersections(horizontal_lines)\n",
    "# remove outliers\n",
    "# Create a DataFrame from intersection_points\n",
    "points_df = pd.DataFrame(intersection_points, columns=['X', 'Y'])\n",
    "points_df['Frame'] = range(len(points_df))\n",
    "# plot_trajectory(points_df)\n",
    "plot_coordinates(points_df, title=\"Raw Coordinates Plot\")\n",
    "\n",
    "# Reorder columns to have 'Frame', 'X', 'Y' \n",
    "points_df = points_df[['Frame', 'X', 'Y']]\n",
    "\n",
    "# Remove outliers\n",
    "points_cleaned = remove_outliers(points_df)\n",
    "\n",
    "# plot_trajectory(points_cleaned)\n",
    "plot_coordinates(points_cleaned, title=\"Cleaned Coordinates Plot\")\n",
    "\n",
    "if avg_movement > 1:\n",
    "    # Smooth the trajectory to reduce noise\n",
    "    points_smoothed = median_filter(points_cleaned)\n",
    "    # plot_trajectory(points_smoothed)\n",
    "    plot_coordinates(points_smoothed, title=\"Smoothed Coordinates Plot\")\n",
    "\n",
    "    # Interpolate missing coordinates\n",
    "    points_interpolated = interpolate_missing_coordinates(points_smoothed, len(points_df)-1)\n",
    "    plot_coordinates(points_interpolated, title=\"Interpolated Coordinates Plot\")\n",
    "    #plot\n",
    "    # plot_trajectory(points_interpolated)\n",
    "    # print(\"len(points_interpolated):\", len(points_interpolated))\n",
    "    # print('mean:', points_interpolated['X'].mean(), points_interpolated['Y'].mean())\n",
    "\n",
    "    reconverted_lines = lines_from_point(points_interpolated)\n",
    "else:\n",
    "    #get the mean point because I'm assuming the video still\n",
    "    mean_point = points_cleaned.mean()\n",
    "    # print('mean point:', mean_point)\n",
    "\n",
    "    #create a list of length of the original df where each element is mean_point\n",
    "    mean_point_list = [mean_point] * len(intersection_points)\n",
    "    mean_point_df = pd.DataFrame(mean_point_list, columns=['X', 'Y'])\n",
    "\n",
    "    reconverted_lines = lines_from_point(mean_point_df)"
   ]
  },
  {
   "cell_type": "markdown",
   "metadata": {},
   "source": [
    "Generate video"
   ]
  },
  {
   "cell_type": "code",
   "execution_count": 105,
   "metadata": {},
   "outputs": [
    {
     "ename": "ValueError",
     "evalue": "cannot convert float NaN to integer",
     "output_type": "error",
     "traceback": [
      "\u001b[31m---------------------------------------------------------------------------\u001b[39m",
      "\u001b[31mValueError\u001b[39m                                Traceback (most recent call last)",
      "\u001b[36mCell\u001b[39m\u001b[36m \u001b[39m\u001b[32mIn[105]\u001b[39m\u001b[32m, line 19\u001b[39m\n\u001b[32m     17\u001b[39m     \u001b[38;5;28mprint\u001b[39m(\u001b[33m\"\u001b[39m\u001b[33mEnd of video or failed to read the frame at iteration\u001b[39m\u001b[33m\"\u001b[39m, frame_index)\n\u001b[32m     18\u001b[39m     \u001b[38;5;28;01mbreak\u001b[39;00m\n\u001b[32m---> \u001b[39m\u001b[32m19\u001b[39m modified_frame = \u001b[43mwrite_line_on_frame\u001b[49m\u001b[43m(\u001b[49m\u001b[43mvideo_frame\u001b[49m\u001b[43m,\u001b[49m\u001b[43m \u001b[49m\u001b[43mreconverted_lines\u001b[49m\u001b[43m[\u001b[49m\u001b[43mframe_index\u001b[49m\u001b[43m]\u001b[49m\u001b[43m)\u001b[49m\n\u001b[32m     21\u001b[39m \u001b[38;5;66;03m# Write the modified frame to the output video\u001b[39;00m\n\u001b[32m     22\u001b[39m out.write(modified_frame)\n",
      "\u001b[36mCell\u001b[39m\u001b[36m \u001b[39m\u001b[32mIn[91]\u001b[39m\u001b[32m, line 14\u001b[39m, in \u001b[36mwrite_line_on_frame\u001b[39m\u001b[34m(frame, line)\u001b[39m\n\u001b[32m     12\u001b[39m x0 = a * rho\n\u001b[32m     13\u001b[39m y0 = b * rho\n\u001b[32m---> \u001b[39m\u001b[32m14\u001b[39m x1 = \u001b[38;5;28;43mint\u001b[39;49m\u001b[43m(\u001b[49m\u001b[43mx0\u001b[49m\u001b[43m \u001b[49m\u001b[43m+\u001b[49m\u001b[43m \u001b[49m\u001b[32;43m1000\u001b[39;49m\u001b[43m \u001b[49m\u001b[43m*\u001b[49m\u001b[43m \u001b[49m\u001b[43m(\u001b[49m\u001b[43m-\u001b[49m\u001b[43mb\u001b[49m\u001b[43m)\u001b[49m\u001b[43m)\u001b[49m\n\u001b[32m     15\u001b[39m y1 = \u001b[38;5;28mint\u001b[39m(y0 + \u001b[32m1000\u001b[39m * (a))\n\u001b[32m     16\u001b[39m x2 = \u001b[38;5;28mint\u001b[39m(x0 - \u001b[32m1000\u001b[39m * (-b))\n",
      "\u001b[31mValueError\u001b[39m: cannot convert float NaN to integer"
     ]
    }
   ],
   "source": [
    "# Reset the video to the beginning\n",
    "cap.set(cv2.CAP_PROP_POS_FRAMES, 0)\n",
    "\n",
    "# Define the codec and create a VideoWriter object to save the modified frames\n",
    "output_path = project_root / \"data\" / f\"recording_{video_number}\" / \"Adjusted_Bottom_line_video.mp4\"\n",
    "fourcc = cv2.VideoWriter_fourcc(*'mp4v')  # Use 'mp4v' codec for MP4 format\n",
    "fps = int(cap.get(cv2.CAP_PROP_FPS))\n",
    "frame_width = int(cap.get(cv2.CAP_PROP_FRAME_WIDTH))\n",
    "frame_height = int(cap.get(cv2.CAP_PROP_FRAME_HEIGHT))\n",
    "out = cv2.VideoWriter(str(output_path), fourcc, fps, (frame_width, frame_height))\n",
    "\n",
    "# Loop through each frame in the video\n",
    "frame_index = 0\n",
    "while frame_index < len(reconverted_lines):\n",
    "    ret, video_frame = cap.read()\n",
    "    if not ret:\n",
    "        print(\"End of video or failed to read the frame at iteration\", frame_index)\n",
    "        break\n",
    "    modified_frame = write_line_on_frame(video_frame, reconverted_lines[frame_index])\n",
    "\n",
    "    # Write the modified frame to the output video\n",
    "    out.write(modified_frame)\n",
    "\n",
    "    # Increment the frame index\n",
    "    frame_index += 1\n",
    "\n",
    "# Release the video capture and writer objects\n",
    "# cap.release()\n",
    "\n",
    "out.release()\n",
    "\n",
    "print(f\"Adjusted video saved to {output_path}\")"
   ]
  },
  {
   "cell_type": "code",
   "execution_count": null,
   "metadata": {},
   "outputs": [
    {
     "name": "stdout",
     "output_type": "stream",
     "text": [
      "Reconverted lines saved to C:\\Users\\miche\\OneDrive\\Documenti\\GitHub\\bowling-analysis\\notebook\\lane_detection\\intermediate_data\\lane_lines\\horizontal_lines_5.csv\n"
     ]
    }
   ],
   "source": [
    "# Convert reconverted_lines to a DataFrame\n",
    "reconverted_lines_df = pd.DataFrame(reconverted_lines, columns=['rho', 'theta'])\n",
    "\n",
    "# Define the path to save the reconverted lines\n",
    "output_path_lines = project_root / \"notebook\" / \"lane_detection\" / \"intermediate_data\" / \"lane_lines\" / f\"horizontal_lines_{video_number}.csv\"\n",
    "\n",
    "# Save the DataFrame to a CSV file\n",
    "reconverted_lines_df.to_csv(output_path_lines, index=False)\n",
    "\n",
    "print(f\"Reconverted lines saved to {output_path_lines}\")"
   ]
  },
  {
   "cell_type": "code",
   "execution_count": null,
   "metadata": {},
   "outputs": [],
   "source": [
    "cap.release()"
   ]
  }
 ],
 "metadata": {
  "kernelspec": {
   "display_name": "Python 3",
   "language": "python",
   "name": "python3"
  },
  "language_info": {
   "codemirror_mode": {
    "name": "ipython",
    "version": 3
   },
   "file_extension": ".py",
   "mimetype": "text/x-python",
   "name": "python",
   "nbconvert_exporter": "python",
   "pygments_lexer": "ipython3",
   "version": "3.11.9"
  }
 },
 "nbformat": 4,
 "nbformat_minor": 2
}
