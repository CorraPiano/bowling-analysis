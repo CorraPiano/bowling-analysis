{
 "cells": [
  {
   "cell_type": "markdown",
   "metadata": {},
   "source": [
    "# Main code to run the **Ball Detection**"
   ]
  },
  {
   "cell_type": "code",
   "execution_count": 72,
   "metadata": {},
   "outputs": [],
   "source": [
    "from pathlib import Path"
   ]
  },
  {
   "cell_type": "markdown",
   "metadata": {},
   "source": [
    "### `ball_detection` - Ball detection"
   ]
  },
  {
   "cell_type": "code",
   "execution_count": 73,
   "metadata": {},
   "outputs": [],
   "source": [
    "# %load ~/projects/IACV_project/bowling-analysis/notebook/ball_detection/Detection_3.py"
   ]
  },
  {
   "cell_type": "code",
   "execution_count": 74,
   "metadata": {},
   "outputs": [],
   "source": [
    "VIDEO_NUM = \"2\"\n",
    "PROJECT_ROOT = Path().resolve().parent.parent"
   ]
  },
  {
   "cell_type": "code",
   "execution_count": null,
   "metadata": {},
   "outputs": [
    {
     "name": "stdout",
     "output_type": "stream",
     "text": [
      "End of video or cannot read frame.\n",
      "Circle data saved to /home/davic/projects/IACV_project/bowling-analysis/notebook/ball_detection/intermediate_data/Circle_positions_raw_2.csv \n",
      "Video saved to /home/davic/projects/IACV_project/bowling-analysis/data/recording_2/Ball_detected_raw_2.mp4\n"
     ]
    }
   ],
   "source": [
    "INPUT_VIDEO_PATH = str(PROJECT_ROOT / \"data\" / f\"recording_{VIDEO_NUM}\" / f\"Recording_{VIDEO_NUM}.mp4\")\n",
    "INPUT_CSV_PATH = str(PROJECT_ROOT / \"data\" / \"auxiliary_data\" / \"lane_points\" / f\"Lane_points_{VIDEO_NUM}.csv\")\n",
    "OUTPUT_VIDEO_PATH = str(PROJECT_ROOT / \"data\" / f\"recording_{VIDEO_NUM}\" / f\"Ball_detected_raw_{VIDEO_NUM}.mp4\")\n",
    "OUTPUT_CSV_PATH = str(PROJECT_ROOT / \"notebook\" / \"ball_detection\" / \"intermediate_data\" / f\"Circle_positions_raw_{VIDEO_NUM}.csv\")\n",
    "\n",
    "%run -i ~/projects/IACV_project/bowling-analysis/notebook/ball_detection/Detection.py"
   ]
  },
  {
   "cell_type": "markdown",
   "metadata": {},
   "source": [
    "### `ball_detection` - Post-processing radius"
   ]
  },
  {
   "cell_type": "code",
   "execution_count": 76,
   "metadata": {},
   "outputs": [
    {
     "name": "stdout",
     "output_type": "stream",
     "text": [
      "Processed DataFrame saved to:  /home/davic/projects/IACV_project/bowling-analysis/notebook/ball_detection/intermediate_data/Circle_positions_cleaned_2.csv\n"
     ]
    }
   ],
   "source": [
    "INPUT_CSV_PATH = str(PROJECT_ROOT / \"notebook\" / \"ball_detection\" / \"intermediate_data\" / f\"Circle_positions_raw_{VIDEO_NUM}.csv\")\n",
    "OUTPUT_CSV_PATH = str(PROJECT_ROOT / \"notebook\" / \"ball_detection\" / \"intermediate_data\" / f\"Circle_positions_cleaned_{VIDEO_NUM}.csv\")\n",
    "\n",
    "%run -i ~/projects/IACV_project/bowling-analysis/notebook/ball_detection/Post-processing_outliers.py"
   ]
  },
  {
   "cell_type": "markdown",
   "metadata": {},
   "source": [
    "### `reconstruction` - Trasform positions"
   ]
  },
  {
   "cell_type": "code",
   "execution_count": null,
   "metadata": {},
   "outputs": [
    {
     "name": "stdout",
     "output_type": "stream",
     "text": [
      "Transformed data saved to /home/davic/projects/IACV_project/bowling-analysis/data/auxiliary_data/reconstructed_positions/Transformed_positions_raw_2.csv.\n"
     ]
    }
   ],
   "source": [
    "CSV_POSITIONS_FILE_PATH = str(PROJECT_ROOT / \"data\" / \"auxiliary_data\" / \"lane_points\" / f\"Lane_points_{VIDEO_NUM}.csv\")\n",
    "CSV_POINTS_POSITIONS_FILE_PATH = str(PROJECT_ROOT / \"notebook\" / \"ball_detection\" / \"intermediate_data\" / f\"Circle_positions_cleaned_{VIDEO_NUM}.csv\")\n",
    "OUTPUT_CSV_PATH = str(PROJECT_ROOT / \"data\" / \"auxiliary_data\" / \"reconstructed_positions\" / f\"Transformed_positions_raw_{VIDEO_NUM}.csv\")\n",
    "\n",
    "%run -i ~/projects/IACV_project/bowling-analysis/notebook/reconstruction/Reconstruction.py"
   ]
  },
  {
   "cell_type": "markdown",
   "metadata": {},
   "source": [
    "### `reconstruction` - Post-processing trasformed positions"
   ]
  },
  {
   "cell_type": "code",
   "execution_count": 78,
   "metadata": {},
   "outputs": [
    {
     "name": "stdout",
     "output_type": "stream",
     "text": [
      "Cleaned data saved to:  /home/davic/projects/IACV_project/bowling-analysis/data/auxiliary_data/reconstructed_positions/Transformed_positions_processed_2.csv\n"
     ]
    }
   ],
   "source": [
    "CSV_POSITIONS_FILE_PATH = str(PROJECT_ROOT / \"data\" / \"auxiliary_data\" / \"reconstructed_positions\" / f\"Transformed_positions_raw_{VIDEO_NUM}.csv\")\n",
    "OUTPUT_CSV_PATH = str(PROJECT_ROOT / \"data\" / \"auxiliary_data\" / \"reconstructed_positions\" / f\"Transformed_positions_processed_{VIDEO_NUM}.csv\")\n",
    "\n",
    "%run -i ~/projects/IACV_project/bowling-analysis/notebook/reconstruction/Post-processing_positions.py"
   ]
  },
  {
   "cell_type": "markdown",
   "metadata": {},
   "source": [
    "### `trajectory` - Final Ball detection positions"
   ]
  },
  {
   "cell_type": "code",
   "execution_count": 79,
   "metadata": {},
   "outputs": [
    {
     "name": "stdout",
     "output_type": "stream",
     "text": [
      "End of video or error reading frame.\n",
      "Tracking video saved to /home/davic/projects/IACV_project/bowling-analysis/data/recording_2/Tracked_output_2.mp4\n",
      "Transformed coordinates have been saved to: /home/davic/projects/IACV_project/bowling-analysis/data/auxiliary_data/circle_positions/Ball_lower_point_raw_2.csv\n"
     ]
    }
   ],
   "source": [
    "INPUT_VIDEO_PATH = str(PROJECT_ROOT / \"data\" / f\"recording_{VIDEO_NUM}\" / f\"Recording_{VIDEO_NUM}.mp4\")\n",
    "TRASFORMED_CSV_PATH = str(PROJECT_ROOT / \"data\" / \"auxiliary_data\" / \"reconstructed_positions\" / f\"Transformed_positions_processed_{VIDEO_NUM}.csv\")\n",
    "LANE_CSV_PATH = str(PROJECT_ROOT / \"data\" / \"auxiliary_data\" / \"lane_points\" / f\"Lane_points_{VIDEO_NUM}.csv\")\n",
    "OUTPUT_VIDEO_PATH = str(PROJECT_ROOT / \"data\" / f\"recording_{VIDEO_NUM}\" / f\"Tracked_output_{VIDEO_NUM}.mp4\")\n",
    "OUTPUT_CSV_PATH = str(PROJECT_ROOT / \"data\" / \"auxiliary_data\" / \"circle_positions\" / f\"Ball_lower_point_raw_{VIDEO_NUM}.csv\")\n",
    "\n",
    "%run -i ~/projects/IACV_project/bowling-analysis/notebook/trajectory/Trajectory_on_video.py"
   ]
  },
  {
   "cell_type": "markdown",
   "metadata": {},
   "source": [
    "### `ball_detection` - Post-processing ball coordinates on video"
   ]
  },
  {
   "cell_type": "code",
   "execution_count": 80,
   "metadata": {},
   "outputs": [
    {
     "name": "stdout",
     "output_type": "stream",
     "text": [
      "Adjusted positions saved to: /home/davic/projects/IACV_project/bowling-analysis/data/auxiliary_data/circle_positions/Adjusted_positions_2.csv\n",
      "Output video saved at: /home/davic/projects/IACV_project/bowling-analysis/data/recording_2/Ball_detected_processed_2.mp4\n"
     ]
    }
   ],
   "source": [
    "INPUT_VIDEO_PATH = str(PROJECT_ROOT / \"data\" / f\"recording_{VIDEO_NUM}\" / f\"Recording_{VIDEO_NUM}.mp4\")\n",
    "ORIGINAL_CSV_PATH = str(PROJECT_ROOT / \"notebook\" / \"ball_detection\" / \"intermediate_data\" / f\"Circle_positions_cleaned_{VIDEO_NUM}.csv\")\n",
    "TRASFORMED_CSV_PATH = str(PROJECT_ROOT / \"data\" / \"auxiliary_data\" / \"circle_positions\" / f\"Ball_lower_point_raw_{VIDEO_NUM}.csv\")\n",
    "OUTPUT_CSV_PATH = str(PROJECT_ROOT / \"data\" / \"auxiliary_data\" / \"circle_positions\" / f\"Adjusted_positions_{VIDEO_NUM}.csv\")\n",
    "OUTPUT_VIDEO_PATH = str(PROJECT_ROOT / \"data\" / f\"recording_{VIDEO_NUM}\" / f\"Ball_detected_processed_{VIDEO_NUM}.mp4\")\n",
    "\n",
    "%run -i ~/projects/IACV_project/bowling-analysis/notebook/ball_detection/Post-processing_smoothing.py"
   ]
  },
  {
   "cell_type": "markdown",
   "metadata": {},
   "source": [
    "### Final cleaning unusefull data"
   ]
  },
  {
   "cell_type": "markdown",
   "metadata": {},
   "source": [
    "After all these processes I want to mantain only the csv file with the final coordinates and radius of the ball"
   ]
  },
  {
   "cell_type": "code",
   "execution_count": 81,
   "metadata": {},
   "outputs": [],
   "source": [
    "# Delete auxiliary data no more useful\n",
    "#path_to_delete_1 = Path(INPUT_CSV_PATH)\n",
    "#path_to_delete_2 = Path(OUTPUT_CSV_PATH)\n",
    "#path_to_delete_1.unlink()\n",
    "#path_to_delete_2.unlink()\n",
    "\n",
    "# What about Average_circle_position_2?"
   ]
  }
 ],
 "metadata": {
  "kernelspec": {
   "display_name": ".venv",
   "language": "python",
   "name": "python3"
  },
  "language_info": {
   "codemirror_mode": {
    "name": "ipython",
    "version": 3
   },
   "file_extension": ".py",
   "mimetype": "text/x-python",
   "name": "python",
   "nbconvert_exporter": "python",
   "pygments_lexer": "ipython3",
   "version": "3.12.3"
  }
 },
 "nbformat": 4,
 "nbformat_minor": 2
}
